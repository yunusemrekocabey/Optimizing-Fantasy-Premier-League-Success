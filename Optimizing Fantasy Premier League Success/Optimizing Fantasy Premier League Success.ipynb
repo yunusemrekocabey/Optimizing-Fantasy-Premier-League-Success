{
 "cells": [
  {
   "cell_type": "markdown",
   "id": "ee4c4264",
   "metadata": {},
   "source": [
    "# Optimizing Fantasy Premier League Success: \n",
    "## A Comprehensive Data-Driven Analysis of Player Performance and Strategies"
   ]
  },
  {
   "cell_type": "markdown",
   "id": "ff174145",
   "metadata": {},
   "source": [
    "## Introduction"
   ]
  },
  {
   "cell_type": "markdown",
   "id": "77bf4ec6",
   "metadata": {},
   "source": [
    "The Fantasy Premier League, popularly known as FPL, has emerged as the leading fantasy football game in the sporting world, boasting an impressive **player base of over 11.5 million enthusiasts in the year 2023**. Established by the International Sports Multimedia (ISM), this captivating game is under the ownership and operation of the Premier League itself.\n",
    "\n",
    "Originally introduced in 2002 for the 2002-03 Premier League season, the Fantasy Premier League made its debut alongside the launch of the Premier League website, marking a new era of interactive engagement for football fans. During its initial season, the game attracted 76.2 thousand eager participants, with the coveted 1st position granting the winner an exclusive VIP trip to witness a thrilling Premier League match of their choice.\n",
    "***\n",
    "In this project, we implement data analysis to find the best players to choose for a fantasy football team by looking at their stats from the last season. Implementing data analysis for fantasy football team selection involves utilizing various statistical techniques to assess **player performance** and make informed decisions. By analyzing the players' **statistics from the previous season**, you can gain valuable insights that contribute to creating a competitive and well-balanced fantasy football team."
   ]
  },
  {
   "cell_type": "markdown",
   "id": "1ee89e40",
   "metadata": {},
   "source": [
    "## Rules"
   ]
  },
  {
   "cell_type": "markdown",
   "id": "2d4866b8",
   "metadata": {},
   "source": [
    "### Squad Size"
   ]
  },
  {
   "cell_type": "markdown",
   "id": "b5a20142",
   "metadata": {},
   "source": [
    "\"Squad Size\" refers to the total number of players that a participant should select for their fantasy football team. In this particular context, the squad size is 15 players. This means that when joining the fantasy football game, each participant is required to create a team of 15 players based on the following position requirements:\n",
    "\n",
    "- **2 Goalkeepers:** These players are responsible for guarding the goal and preventing the opposing team from scoring.\n",
    "\n",
    "- **5 Defenders:** Defenders form the backbone of the team's defense, working to prevent the opposing team's attackers from scoring goals.\n",
    "\n",
    "- **5 Midfielders:** Midfielders play a crucial role in controlling the game, often involved in both offensive and defensive plays.\n",
    "\n",
    "- **3 Forwards:** Forwards are primarily responsible for scoring goals and putting pressure on the opposing team's defense.\n",
    "\n",
    "By adhering to these squad size and position requirements, participants are compelled to create a well-balanced team that covers all key areas of the game.\n",
    "\n",
    "_Note: There is also a budget consideration, but we will not delve into that aspect of the game in this analysis._"
   ]
  },
  {
   "cell_type": "markdown",
   "id": "58726bcc",
   "metadata": {},
   "source": [
    "- Ways for each position to earn points\n",
    "- Data Exploration\n",
    "- Data Analysis\n",
    "- Outstanding Players\n",
    "- Conclusion"
   ]
  },
  {
   "cell_type": "markdown",
   "id": "dde1e479",
   "metadata": {},
   "source": [
    "### Scoring Points"
   ]
  },
  {
   "cell_type": "markdown",
   "id": "f8580c88",
   "metadata": {},
   "source": [
    "Throughout the duration of the season, participating fantasy football players will earn points based on their individual performances within the Premier League matches. These points are allocated according to various criteria such as goals scored, assists provided, clean sheets, and other notable contributions during the games. Each player's performance directly influences the points they accumulate, thereby shaping their overall standing in the fantasy league and affecting their team's position in the competition."
   ]
  },
  {
   "cell_type": "markdown",
   "id": "f19dd3ff",
   "metadata": {},
   "source": [
    "<center>During the season, fantasy football players will be allocated points based on their performance in the Premier League.</center>"
   ]
  },
  {
   "cell_type": "markdown",
   "id": "90d5e62b",
   "metadata": {},
   "source": [
    "| Action | Points |\n",
    "| :-- | --: |\n",
    "| For playing up to 60 minutes | 1 |\n",
    "| For playing 60 minutes or more (excluding stoppage time) | 2 |\n",
    "| For each goal scored by a goalkeeper or defender | 6 |\n",
    "| For each goal scored by a midfielder | 5 |\n",
    "| For each goal scored by a forward | 4 |\n",
    "| For each goal assist | 3 |\n",
    "| For a clean sheet by a goalkeeper or defender | 4 |\n",
    "| For a clean sheet by a midfielder | 1 |\n",
    "| For every 3 shot saves by a goalkeeper | 1 |\n",
    "| For each penalty save | 5 |\n",
    "| For each penalty miss | -2 |\n",
    "| Bonus points for the best players in a match | 1-3 |\n",
    "| For every 2 goals conceded by a goalkeeper or defender | -1 |\n",
    "| For each yellow card | -1 |\n",
    "| For each red card | -3 |\n",
    "| For each own goal | -2 |</center>"
   ]
  },
  {
   "cell_type": "markdown",
   "id": "3fda77f5",
   "metadata": {},
   "source": [
    "Those are the ways for players to earn points each matchweek. We will divide each of these categories by the positions of the players and try to generate a aggregate measure that will help us to choose players for each position."
   ]
  },
  {
   "cell_type": "markdown",
   "id": "f7771cd5",
   "metadata": {},
   "source": [
    "We will measure each position by the required stats as shown below;\n",
    "\n",
    "Goalkeepers\n",
    "- Clean Sheets\n",
    "- Saves\n",
    "- Penalty Saves\n",
    "- Goals Conceded\n",
    "- Yellow Card\n",
    "- Red Card\n",
    "- Own Goal\n",
    "\n",
    "Defenders\n",
    "- Goals\n",
    "- Assists\n",
    "- Goals Conceded\n",
    "- Yellow Card\n",
    "- Red Card\n",
    "- Own Goal\n",
    "\n",
    "Midfielders\n",
    "- Goals\n",
    "- Assists\n",
    "- Penalty Miss\n",
    "- Yellow Card\n",
    "- Red Card\n",
    "- Own Goal\n",
    "\n",
    "Forwards\n",
    "- Goals\n",
    "- Assists\n",
    "- Penalty Miss\n",
    "- Yellow Card\n",
    "- Red Card\n",
    "- Own Goal"
   ]
  },
  {
   "cell_type": "markdown",
   "id": "c73f5d2a",
   "metadata": {},
   "source": [
    "## Data Exploration"
   ]
  },
  {
   "cell_type": "markdown",
   "id": "6bdf67e7",
   "metadata": {},
   "source": [
    "As part of our comprehensive data analysis process, we will embark on a meticulous journey of data exploration, delving deep into each dataset to uncover and extract the essential statistical information that is pertinent to our research objectives. Through a systematic examination of the data, we aim to reveal meaningful insights that will enable us to make informed decisions and draw conclusive inferences. Furthermore, after thoroughly scrutinizing and analyzing each dataset, we will strategically merge the individual dataframes into a unified and comprehensive dataset. This amalgamated dataframe will serve as a consolidated and valuable resource."
   ]
  },
  {
   "cell_type": "code",
   "execution_count": 1,
   "id": "1de5b6f4",
   "metadata": {},
   "outputs": [],
   "source": [
    "# importing required libraries\n",
    "import pandas as pd\n",
    "import matplotlib.pyplot as plt\n",
    "import seaborn as sns"
   ]
  },
  {
   "cell_type": "code",
   "execution_count": 2,
   "id": "c6c04980",
   "metadata": {},
   "outputs": [],
   "source": [
    "# getting our data from fbref website\n",
    "standard_stats = 'https://fbref.com/en/comps/Big5/2022-2023/stats/players/2022-2023-Big-5-European-Leagues-Stats'\n",
    "goalkeeper_stats = 'https://fbref.com/en/comps/Big5/2022-2023/keepers/players/2022-2023-Big-5-European-Leagues-Stats'\n",
    "miscellaneous_stats = 'https://fbref.com/en/comps/Big5/2022-2023/misc/players/2022-2023-Big-5-European-Leagues-Stats'\n",
    "playing_stats = 'https://fbref.com/en/comps/Big5/2022-2023/playingtime/players/2022-2023-Big-5-European-Leagues-Stats'\n",
    "shooting_stats = 'https://fbref.com/en/comps/Big5/2022-2023/shooting/players/2022-2023-Big-5-European-Leagues-Stats'"
   ]
  },
  {
   "cell_type": "code",
   "execution_count": 3,
   "id": "219dc245",
   "metadata": {},
   "outputs": [],
   "source": [
    "# creating our first dataframe (standard stats)\n",
    "df_1 = pd.read_html(standard_stats)[0]"
   ]
  },
  {
   "cell_type": "code",
   "execution_count": 4,
   "id": "fed4758c",
   "metadata": {},
   "outputs": [
    {
     "data": {
      "text/html": [
       "<div>\n",
       "<style scoped>\n",
       "    .dataframe tbody tr th:only-of-type {\n",
       "        vertical-align: middle;\n",
       "    }\n",
       "\n",
       "    .dataframe tbody tr th {\n",
       "        vertical-align: top;\n",
       "    }\n",
       "\n",
       "    .dataframe thead tr th {\n",
       "        text-align: left;\n",
       "    }\n",
       "</style>\n",
       "<table border=\"1\" class=\"dataframe\">\n",
       "  <thead>\n",
       "    <tr>\n",
       "      <th></th>\n",
       "      <th>Unnamed: 0_level_0</th>\n",
       "      <th>Unnamed: 1_level_0</th>\n",
       "      <th>Unnamed: 2_level_0</th>\n",
       "      <th>Unnamed: 3_level_0</th>\n",
       "      <th>Unnamed: 4_level_0</th>\n",
       "      <th>Unnamed: 5_level_0</th>\n",
       "      <th>Unnamed: 6_level_0</th>\n",
       "      <th>Unnamed: 7_level_0</th>\n",
       "      <th colspan=\"2\" halign=\"left\">Playing Time</th>\n",
       "      <th>...</th>\n",
       "      <th colspan=\"9\" halign=\"left\">Per 90 Minutes</th>\n",
       "      <th>Unnamed: 37_level_0</th>\n",
       "    </tr>\n",
       "    <tr>\n",
       "      <th></th>\n",
       "      <th>Rk</th>\n",
       "      <th>Player</th>\n",
       "      <th>Nation</th>\n",
       "      <th>Pos</th>\n",
       "      <th>Squad</th>\n",
       "      <th>Comp</th>\n",
       "      <th>Age</th>\n",
       "      <th>Born</th>\n",
       "      <th>MP</th>\n",
       "      <th>Starts</th>\n",
       "      <th>...</th>\n",
       "      <th>Ast</th>\n",
       "      <th>G+A</th>\n",
       "      <th>G-PK</th>\n",
       "      <th>G+A-PK</th>\n",
       "      <th>xG</th>\n",
       "      <th>xAG</th>\n",
       "      <th>xG+xAG</th>\n",
       "      <th>npxG</th>\n",
       "      <th>npxG+xAG</th>\n",
       "      <th>Matches</th>\n",
       "    </tr>\n",
       "  </thead>\n",
       "  <tbody>\n",
       "    <tr>\n",
       "      <th>0</th>\n",
       "      <td>1</td>\n",
       "      <td>Brenden Aaronson</td>\n",
       "      <td>us USA</td>\n",
       "      <td>MF,FW</td>\n",
       "      <td>Leeds United</td>\n",
       "      <td>eng Premier League</td>\n",
       "      <td>21</td>\n",
       "      <td>2000</td>\n",
       "      <td>36</td>\n",
       "      <td>28</td>\n",
       "      <td>...</td>\n",
       "      <td>0.11</td>\n",
       "      <td>0.15</td>\n",
       "      <td>0.04</td>\n",
       "      <td>0.15</td>\n",
       "      <td>0.15</td>\n",
       "      <td>0.16</td>\n",
       "      <td>0.31</td>\n",
       "      <td>0.15</td>\n",
       "      <td>0.31</td>\n",
       "      <td>Matches</td>\n",
       "    </tr>\n",
       "    <tr>\n",
       "      <th>1</th>\n",
       "      <td>2</td>\n",
       "      <td>Paxten Aaronson</td>\n",
       "      <td>us USA</td>\n",
       "      <td>MF,DF</td>\n",
       "      <td>Eint Frankfurt</td>\n",
       "      <td>de Bundesliga</td>\n",
       "      <td>18</td>\n",
       "      <td>2003</td>\n",
       "      <td>7</td>\n",
       "      <td>0</td>\n",
       "      <td>...</td>\n",
       "      <td>0.00</td>\n",
       "      <td>0.00</td>\n",
       "      <td>0.00</td>\n",
       "      <td>0.00</td>\n",
       "      <td>0.09</td>\n",
       "      <td>0.03</td>\n",
       "      <td>0.11</td>\n",
       "      <td>0.09</td>\n",
       "      <td>0.11</td>\n",
       "      <td>Matches</td>\n",
       "    </tr>\n",
       "  </tbody>\n",
       "</table>\n",
       "<p>2 rows × 38 columns</p>\n",
       "</div>"
      ],
      "text/plain": [
       "  Unnamed: 0_level_0 Unnamed: 1_level_0 Unnamed: 2_level_0 Unnamed: 3_level_0  \\\n",
       "                  Rk             Player             Nation                Pos   \n",
       "0                  1   Brenden Aaronson             us USA              MF,FW   \n",
       "1                  2    Paxten Aaronson             us USA              MF,DF   \n",
       "\n",
       "  Unnamed: 4_level_0  Unnamed: 5_level_0 Unnamed: 6_level_0  \\\n",
       "               Squad                Comp                Age   \n",
       "0       Leeds United  eng Premier League                 21   \n",
       "1     Eint Frankfurt       de Bundesliga                 18   \n",
       "\n",
       "  Unnamed: 7_level_0 Playing Time         ... Per 90 Minutes              \\\n",
       "                Born           MP Starts  ...            Ast   G+A  G-PK   \n",
       "0               2000           36     28  ...           0.11  0.15  0.04   \n",
       "1               2003            7      0  ...           0.00  0.00  0.00   \n",
       "\n",
       "                                           Unnamed: 37_level_0  \n",
       "  G+A-PK    xG   xAG xG+xAG  npxG npxG+xAG             Matches  \n",
       "0   0.15  0.15  0.16   0.31  0.15     0.31             Matches  \n",
       "1   0.00  0.09  0.03   0.11  0.09     0.11             Matches  \n",
       "\n",
       "[2 rows x 38 columns]"
      ]
     },
     "execution_count": 4,
     "metadata": {},
     "output_type": "execute_result"
    }
   ],
   "source": [
    "df_1.head(2)"
   ]
  },
  {
   "cell_type": "markdown",
   "id": "50bede46",
   "metadata": {},
   "source": [
    "Now, we need to choose the required columns from this dataframe and make it ready for the inevitable merge."
   ]
  },
  {
   "cell_type": "code",
   "execution_count": 5,
   "id": "f1ff12df",
   "metadata": {},
   "outputs": [],
   "source": [
    "# Combining the higher level with the lower level in the column index\n",
    "df_1.columns = [f'{higher}_{lower}' for higher, lower in df_1.columns]"
   ]
  },
  {
   "cell_type": "code",
   "execution_count": 6,
   "id": "2d941bc0",
   "metadata": {},
   "outputs": [
    {
     "data": {
      "text/html": [
       "<div>\n",
       "<style scoped>\n",
       "    .dataframe tbody tr th:only-of-type {\n",
       "        vertical-align: middle;\n",
       "    }\n",
       "\n",
       "    .dataframe tbody tr th {\n",
       "        vertical-align: top;\n",
       "    }\n",
       "\n",
       "    .dataframe thead th {\n",
       "        text-align: right;\n",
       "    }\n",
       "</style>\n",
       "<table border=\"1\" class=\"dataframe\">\n",
       "  <thead>\n",
       "    <tr style=\"text-align: right;\">\n",
       "      <th></th>\n",
       "      <th>Unnamed: 0_level_0_Rk</th>\n",
       "      <th>Unnamed: 1_level_0_Player</th>\n",
       "      <th>Unnamed: 2_level_0_Nation</th>\n",
       "      <th>Unnamed: 3_level_0_Pos</th>\n",
       "      <th>Unnamed: 4_level_0_Squad</th>\n",
       "      <th>Unnamed: 5_level_0_Comp</th>\n",
       "      <th>Unnamed: 6_level_0_Age</th>\n",
       "      <th>Unnamed: 7_level_0_Born</th>\n",
       "      <th>Playing Time_MP</th>\n",
       "      <th>Playing Time_Starts</th>\n",
       "      <th>...</th>\n",
       "      <th>Per 90 Minutes_Ast</th>\n",
       "      <th>Per 90 Minutes_G+A</th>\n",
       "      <th>Per 90 Minutes_G-PK</th>\n",
       "      <th>Per 90 Minutes_G+A-PK</th>\n",
       "      <th>Per 90 Minutes_xG</th>\n",
       "      <th>Per 90 Minutes_xAG</th>\n",
       "      <th>Per 90 Minutes_xG+xAG</th>\n",
       "      <th>Per 90 Minutes_npxG</th>\n",
       "      <th>Per 90 Minutes_npxG+xAG</th>\n",
       "      <th>Unnamed: 37_level_0_Matches</th>\n",
       "    </tr>\n",
       "  </thead>\n",
       "  <tbody>\n",
       "    <tr>\n",
       "      <th>0</th>\n",
       "      <td>1</td>\n",
       "      <td>Brenden Aaronson</td>\n",
       "      <td>us USA</td>\n",
       "      <td>MF,FW</td>\n",
       "      <td>Leeds United</td>\n",
       "      <td>eng Premier League</td>\n",
       "      <td>21</td>\n",
       "      <td>2000</td>\n",
       "      <td>36</td>\n",
       "      <td>28</td>\n",
       "      <td>...</td>\n",
       "      <td>0.11</td>\n",
       "      <td>0.15</td>\n",
       "      <td>0.04</td>\n",
       "      <td>0.15</td>\n",
       "      <td>0.15</td>\n",
       "      <td>0.16</td>\n",
       "      <td>0.31</td>\n",
       "      <td>0.15</td>\n",
       "      <td>0.31</td>\n",
       "      <td>Matches</td>\n",
       "    </tr>\n",
       "    <tr>\n",
       "      <th>1</th>\n",
       "      <td>2</td>\n",
       "      <td>Paxten Aaronson</td>\n",
       "      <td>us USA</td>\n",
       "      <td>MF,DF</td>\n",
       "      <td>Eint Frankfurt</td>\n",
       "      <td>de Bundesliga</td>\n",
       "      <td>18</td>\n",
       "      <td>2003</td>\n",
       "      <td>7</td>\n",
       "      <td>0</td>\n",
       "      <td>...</td>\n",
       "      <td>0.00</td>\n",
       "      <td>0.00</td>\n",
       "      <td>0.00</td>\n",
       "      <td>0.00</td>\n",
       "      <td>0.09</td>\n",
       "      <td>0.03</td>\n",
       "      <td>0.11</td>\n",
       "      <td>0.09</td>\n",
       "      <td>0.11</td>\n",
       "      <td>Matches</td>\n",
       "    </tr>\n",
       "  </tbody>\n",
       "</table>\n",
       "<p>2 rows × 38 columns</p>\n",
       "</div>"
      ],
      "text/plain": [
       "  Unnamed: 0_level_0_Rk Unnamed: 1_level_0_Player Unnamed: 2_level_0_Nation  \\\n",
       "0                     1          Brenden Aaronson                    us USA   \n",
       "1                     2           Paxten Aaronson                    us USA   \n",
       "\n",
       "  Unnamed: 3_level_0_Pos Unnamed: 4_level_0_Squad Unnamed: 5_level_0_Comp  \\\n",
       "0                  MF,FW             Leeds United      eng Premier League   \n",
       "1                  MF,DF           Eint Frankfurt           de Bundesliga   \n",
       "\n",
       "  Unnamed: 6_level_0_Age Unnamed: 7_level_0_Born Playing Time_MP  \\\n",
       "0                     21                    2000              36   \n",
       "1                     18                    2003               7   \n",
       "\n",
       "  Playing Time_Starts  ... Per 90 Minutes_Ast Per 90 Minutes_G+A  \\\n",
       "0                  28  ...               0.11               0.15   \n",
       "1                   0  ...               0.00               0.00   \n",
       "\n",
       "  Per 90 Minutes_G-PK Per 90 Minutes_G+A-PK Per 90 Minutes_xG  \\\n",
       "0                0.04                  0.15              0.15   \n",
       "1                0.00                  0.00              0.09   \n",
       "\n",
       "  Per 90 Minutes_xAG Per 90 Minutes_xG+xAG Per 90 Minutes_npxG  \\\n",
       "0               0.16                  0.31                0.15   \n",
       "1               0.03                  0.11                0.09   \n",
       "\n",
       "  Per 90 Minutes_npxG+xAG Unnamed: 37_level_0_Matches  \n",
       "0                    0.31                     Matches  \n",
       "1                    0.11                     Matches  \n",
       "\n",
       "[2 rows x 38 columns]"
      ]
     },
     "execution_count": 6,
     "metadata": {},
     "output_type": "execute_result"
    }
   ],
   "source": [
    "df_1.head(2)"
   ]
  },
  {
   "cell_type": "code",
   "execution_count": 7,
   "id": "cecce0d1",
   "metadata": {},
   "outputs": [
    {
     "name": "stdout",
     "output_type": "stream",
     "text": [
      "Unnamed: 0_level_0_Rk\n",
      "Unnamed: 1_level_0_Player\n",
      "Unnamed: 2_level_0_Nation\n",
      "Unnamed: 3_level_0_Pos\n",
      "Unnamed: 4_level_0_Squad\n",
      "Unnamed: 5_level_0_Comp\n",
      "Unnamed: 6_level_0_Age\n",
      "Unnamed: 7_level_0_Born\n",
      "Playing Time_MP\n",
      "Playing Time_Starts\n",
      "Playing Time_Min\n",
      "Playing Time_90s\n",
      "Performance_Gls\n",
      "Performance_Ast\n",
      "Performance_G+A\n",
      "Performance_G-PK\n",
      "Performance_PK\n",
      "Performance_PKatt\n",
      "Performance_CrdY\n",
      "Performance_CrdR\n",
      "Expected_xG\n",
      "Expected_npxG\n",
      "Expected_xAG\n",
      "Expected_npxG+xAG\n",
      "Progression_PrgC\n",
      "Progression_PrgP\n",
      "Progression_PrgR\n",
      "Per 90 Minutes_Gls\n",
      "Per 90 Minutes_Ast\n",
      "Per 90 Minutes_G+A\n",
      "Per 90 Minutes_G-PK\n",
      "Per 90 Minutes_G+A-PK\n",
      "Per 90 Minutes_xG\n",
      "Per 90 Minutes_xAG\n",
      "Per 90 Minutes_xG+xAG\n",
      "Per 90 Minutes_npxG\n",
      "Per 90 Minutes_npxG+xAG\n",
      "Unnamed: 37_level_0_Matches\n"
     ]
    }
   ],
   "source": [
    "# looking at the columns\n",
    "for column in df_1.columns:\n",
    "    print(column)"
   ]
  },
  {
   "cell_type": "markdown",
   "id": "c9687200",
   "metadata": {},
   "source": [
    "By looking at the columns, we are trying to get the columns we need for our analysis.<br>\n",
    "From this dataframe, we need to get 'player', 'position', 'team', 'goals', 'assists', 'yellow cards', and 'red cards'.\n"
   ]
  },
  {
   "cell_type": "code",
   "execution_count": 8,
   "id": "2eb91f0b",
   "metadata": {},
   "outputs": [],
   "source": [
    "columns = ['Unnamed: 1_level_0_Player', 'Unnamed: 3_level_0_Pos', 'Unnamed: 4_level_0_Squad',\n",
    "          'Performance_Gls', 'Performance_Ast', 'Performance_CrdY', 'Performance_CrdR']\n",
    "\n",
    "df_1 = df_1[columns]"
   ]
  },
  {
   "cell_type": "code",
   "execution_count": 9,
   "id": "72b101b5",
   "metadata": {},
   "outputs": [],
   "source": [
    "# we rename the columns\n",
    "df_1.columns = ['Name', 'Position', 'Team', 'Goals', 'Assists', 'Yellow_Cards', 'Red_Cards']"
   ]
  },
  {
   "cell_type": "code",
   "execution_count": 10,
   "id": "e98f53f3",
   "metadata": {
    "scrolled": true
   },
   "outputs": [
    {
     "data": {
      "text/html": [
       "<div>\n",
       "<style scoped>\n",
       "    .dataframe tbody tr th:only-of-type {\n",
       "        vertical-align: middle;\n",
       "    }\n",
       "\n",
       "    .dataframe tbody tr th {\n",
       "        vertical-align: top;\n",
       "    }\n",
       "\n",
       "    .dataframe thead th {\n",
       "        text-align: right;\n",
       "    }\n",
       "</style>\n",
       "<table border=\"1\" class=\"dataframe\">\n",
       "  <thead>\n",
       "    <tr style=\"text-align: right;\">\n",
       "      <th></th>\n",
       "      <th>Name</th>\n",
       "      <th>Position</th>\n",
       "      <th>Team</th>\n",
       "      <th>Goals</th>\n",
       "      <th>Assists</th>\n",
       "      <th>Yellow_Cards</th>\n",
       "      <th>Red_Cards</th>\n",
       "    </tr>\n",
       "  </thead>\n",
       "  <tbody>\n",
       "    <tr>\n",
       "      <th>0</th>\n",
       "      <td>Brenden Aaronson</td>\n",
       "      <td>MF,FW</td>\n",
       "      <td>Leeds United</td>\n",
       "      <td>1</td>\n",
       "      <td>3</td>\n",
       "      <td>2</td>\n",
       "      <td>0</td>\n",
       "    </tr>\n",
       "    <tr>\n",
       "      <th>1</th>\n",
       "      <td>Paxten Aaronson</td>\n",
       "      <td>MF,DF</td>\n",
       "      <td>Eint Frankfurt</td>\n",
       "      <td>0</td>\n",
       "      <td>0</td>\n",
       "      <td>1</td>\n",
       "      <td>0</td>\n",
       "    </tr>\n",
       "  </tbody>\n",
       "</table>\n",
       "</div>"
      ],
      "text/plain": [
       "               Name Position            Team Goals Assists Yellow_Cards  \\\n",
       "0  Brenden Aaronson    MF,FW    Leeds United     1       3            2   \n",
       "1   Paxten Aaronson    MF,DF  Eint Frankfurt     0       0            1   \n",
       "\n",
       "  Red_Cards  \n",
       "0         0  \n",
       "1         0  "
      ]
     },
     "execution_count": 10,
     "metadata": {},
     "output_type": "execute_result"
    }
   ],
   "source": [
    "df_1.head(2)"
   ]
  },
  {
   "cell_type": "markdown",
   "id": "e2f99aed",
   "metadata": {},
   "source": [
    "We got what we want from the first dataframe, now let's go do it again for other dataframes."
   ]
  },
  {
   "cell_type": "code",
   "execution_count": 11,
   "id": "270942a7",
   "metadata": {},
   "outputs": [
    {
     "name": "stdout",
     "output_type": "stream",
     "text": [
      "Unnamed: 0_level_0_Rk\n",
      "Unnamed: 1_level_0_Player\n",
      "Unnamed: 2_level_0_Nation\n",
      "Unnamed: 3_level_0_Pos\n",
      "Unnamed: 4_level_0_Squad\n",
      "Unnamed: 5_level_0_Comp\n",
      "Unnamed: 6_level_0_Age\n",
      "Unnamed: 7_level_0_Born\n",
      "Playing Time_MP\n",
      "Playing Time_Starts\n",
      "Playing Time_Min\n",
      "Unnamed: 11_level_0_90s\n",
      "Performance_GA\n",
      "Performance_GA90\n",
      "Performance_SoTA\n",
      "Performance_Saves\n",
      "Performance_Save%\n",
      "Performance_W\n",
      "Performance_D\n",
      "Performance_L\n",
      "Performance_CS\n",
      "Performance_CS%\n",
      "Penalty Kicks_PKatt\n",
      "Penalty Kicks_PKA\n",
      "Penalty Kicks_PKsv\n",
      "Penalty Kicks_PKm\n",
      "Penalty Kicks_Save%\n",
      "Unnamed: 27_level_0_Matches\n"
     ]
    }
   ],
   "source": [
    "# creating our second dataframe (goalkeeper stats)\n",
    "df_2 = pd.read_html(goalkeeper_stats)[0]\n",
    "# Combining the higher level with the lower level in the column index\n",
    "df_2.columns = [f'{higher}_{lower}' for higher, lower in df_2.columns]\n",
    "# looking at the columns\n",
    "for column in df_2.columns:\n",
    "    print(column)"
   ]
  },
  {
   "cell_type": "markdown",
   "id": "36c97f99",
   "metadata": {},
   "source": [
    "From this dataframe, we need 'player', 'position', 'team', 'goals against per 90', 'saves', 'clean sheets', and 'penalties saved'."
   ]
  },
  {
   "cell_type": "code",
   "execution_count": 12,
   "id": "1a11ab36",
   "metadata": {},
   "outputs": [
    {
     "data": {
      "text/html": [
       "<div>\n",
       "<style scoped>\n",
       "    .dataframe tbody tr th:only-of-type {\n",
       "        vertical-align: middle;\n",
       "    }\n",
       "\n",
       "    .dataframe tbody tr th {\n",
       "        vertical-align: top;\n",
       "    }\n",
       "\n",
       "    .dataframe thead th {\n",
       "        text-align: right;\n",
       "    }\n",
       "</style>\n",
       "<table border=\"1\" class=\"dataframe\">\n",
       "  <thead>\n",
       "    <tr style=\"text-align: right;\">\n",
       "      <th></th>\n",
       "      <th>Name</th>\n",
       "      <th>Position</th>\n",
       "      <th>Team</th>\n",
       "      <th>Conceded_per_90</th>\n",
       "      <th>Saves</th>\n",
       "      <th>Clean_Sheets</th>\n",
       "      <th>Penalties_Saved</th>\n",
       "    </tr>\n",
       "  </thead>\n",
       "  <tbody>\n",
       "    <tr>\n",
       "      <th>0</th>\n",
       "      <td>Álvaro Aceves</td>\n",
       "      <td>GK</td>\n",
       "      <td>Valladolid</td>\n",
       "      <td>0.00</td>\n",
       "      <td>3</td>\n",
       "      <td>0</td>\n",
       "      <td>0</td>\n",
       "    </tr>\n",
       "    <tr>\n",
       "      <th>1</th>\n",
       "      <td>Julen Agirrezabala</td>\n",
       "      <td>GK</td>\n",
       "      <td>Athletic Club</td>\n",
       "      <td>0.80</td>\n",
       "      <td>13</td>\n",
       "      <td>2</td>\n",
       "      <td>0</td>\n",
       "    </tr>\n",
       "  </tbody>\n",
       "</table>\n",
       "</div>"
      ],
      "text/plain": [
       "                 Name Position           Team Conceded_per_90 Saves  \\\n",
       "0       Álvaro Aceves       GK     Valladolid            0.00     3   \n",
       "1  Julen Agirrezabala       GK  Athletic Club            0.80    13   \n",
       "\n",
       "  Clean_Sheets Penalties_Saved  \n",
       "0            0               0  \n",
       "1            2               0  "
      ]
     },
     "execution_count": 12,
     "metadata": {},
     "output_type": "execute_result"
    }
   ],
   "source": [
    "columns = ['Unnamed: 1_level_0_Player', 'Unnamed: 3_level_0_Pos', 'Unnamed: 4_level_0_Squad',\n",
    "          'Performance_GA90', 'Performance_Saves', 'Performance_CS', 'Penalty Kicks_PKsv']\n",
    "\n",
    "df_2 = df_2[columns]\n",
    "df_2.columns = ['Name', 'Position', 'Team', 'Conceded_per_90', 'Saves', 'Clean_Sheets', 'Penalties_Saved']\n",
    "df_2.head(2)"
   ]
  },
  {
   "cell_type": "code",
   "execution_count": 13,
   "id": "06e0187e",
   "metadata": {
    "scrolled": true
   },
   "outputs": [
    {
     "name": "stdout",
     "output_type": "stream",
     "text": [
      "Unnamed: 0_level_0_Rk\n",
      "Unnamed: 1_level_0_Player\n",
      "Unnamed: 2_level_0_Nation\n",
      "Unnamed: 3_level_0_Pos\n",
      "Unnamed: 4_level_0_Squad\n",
      "Unnamed: 5_level_0_Comp\n",
      "Unnamed: 6_level_0_Age\n",
      "Unnamed: 7_level_0_Born\n",
      "Unnamed: 8_level_0_90s\n",
      "Performance_CrdY\n",
      "Performance_CrdR\n",
      "Performance_2CrdY\n",
      "Performance_Fls\n",
      "Performance_Fld\n",
      "Performance_Off\n",
      "Performance_Crs\n",
      "Performance_Int\n",
      "Performance_TklW\n",
      "Performance_PKwon\n",
      "Performance_PKcon\n",
      "Performance_OG\n",
      "Performance_Recov\n",
      "Aerial Duels_Won\n",
      "Aerial Duels_Lost\n",
      "Aerial Duels_Won%\n",
      "Unnamed: 25_level_0_Matches\n"
     ]
    }
   ],
   "source": [
    "# creating our third dataframe (miscellaneous stats)\n",
    "df_3 = pd.read_html(miscellaneous_stats)[0]\n",
    "# Combining the higher level with the lower level in the column index\n",
    "df_3.columns = [f'{higher}_{lower}' for higher, lower in df_3.columns]\n",
    "# looking at the columns\n",
    "for column in df_3.columns:\n",
    "    print(column)"
   ]
  },
  {
   "cell_type": "markdown",
   "id": "cdc15f76",
   "metadata": {},
   "source": [
    "What we need to get from this dataframe are 'player', 'position', 'team', 'own goals'."
   ]
  },
  {
   "cell_type": "code",
   "execution_count": 14,
   "id": "3e15a34a",
   "metadata": {},
   "outputs": [
    {
     "data": {
      "text/html": [
       "<div>\n",
       "<style scoped>\n",
       "    .dataframe tbody tr th:only-of-type {\n",
       "        vertical-align: middle;\n",
       "    }\n",
       "\n",
       "    .dataframe tbody tr th {\n",
       "        vertical-align: top;\n",
       "    }\n",
       "\n",
       "    .dataframe thead th {\n",
       "        text-align: right;\n",
       "    }\n",
       "</style>\n",
       "<table border=\"1\" class=\"dataframe\">\n",
       "  <thead>\n",
       "    <tr style=\"text-align: right;\">\n",
       "      <th></th>\n",
       "      <th>Name</th>\n",
       "      <th>Position</th>\n",
       "      <th>Team</th>\n",
       "      <th>Own_Goals</th>\n",
       "    </tr>\n",
       "  </thead>\n",
       "  <tbody>\n",
       "    <tr>\n",
       "      <th>0</th>\n",
       "      <td>Brenden Aaronson</td>\n",
       "      <td>MF,FW</td>\n",
       "      <td>Leeds United</td>\n",
       "      <td>0</td>\n",
       "    </tr>\n",
       "    <tr>\n",
       "      <th>1</th>\n",
       "      <td>Paxten Aaronson</td>\n",
       "      <td>MF,DF</td>\n",
       "      <td>Eint Frankfurt</td>\n",
       "      <td>0</td>\n",
       "    </tr>\n",
       "  </tbody>\n",
       "</table>\n",
       "</div>"
      ],
      "text/plain": [
       "               Name Position            Team Own_Goals\n",
       "0  Brenden Aaronson    MF,FW    Leeds United         0\n",
       "1   Paxten Aaronson    MF,DF  Eint Frankfurt         0"
      ]
     },
     "execution_count": 14,
     "metadata": {},
     "output_type": "execute_result"
    }
   ],
   "source": [
    "columns = ['Unnamed: 1_level_0_Player', 'Unnamed: 3_level_0_Pos', 'Unnamed: 4_level_0_Squad',\n",
    "          'Performance_OG']\n",
    "\n",
    "df_3 = df_3[columns]\n",
    "df_3.columns = ['Name', 'Position', 'Team', 'Own_Goals']\n",
    "df_3.head(2)"
   ]
  },
  {
   "cell_type": "code",
   "execution_count": 15,
   "id": "901b1379",
   "metadata": {},
   "outputs": [
    {
     "name": "stdout",
     "output_type": "stream",
     "text": [
      "Unnamed: 0_level_0_Rk\n",
      "Unnamed: 1_level_0_Player\n",
      "Unnamed: 2_level_0_Nation\n",
      "Unnamed: 3_level_0_Pos\n",
      "Unnamed: 4_level_0_Squad\n",
      "Unnamed: 5_level_0_Comp\n",
      "Unnamed: 6_level_0_Age\n",
      "Unnamed: 7_level_0_Born\n",
      "Playing Time_MP\n",
      "Playing Time_Min\n",
      "Playing Time_Mn/MP\n",
      "Playing Time_Min%\n",
      "Playing Time_90s\n",
      "Starts_Starts\n",
      "Starts_Mn/Start\n",
      "Starts_Compl\n",
      "Subs_Subs\n",
      "Subs_Mn/Sub\n",
      "Subs_unSub\n",
      "Team Success_PPM\n",
      "Team Success_onG\n",
      "Team Success_onGA\n",
      "Team Success_+/-\n",
      "Team Success_+/-90\n",
      "Team Success_On-Off\n",
      "Team Success (xG)_onxG\n",
      "Team Success (xG)_onxGA\n",
      "Team Success (xG)_xG+/-\n",
      "Team Success (xG)_xG+/-90\n",
      "Team Success (xG)_On-Off\n",
      "Unnamed: 30_level_0_Matches\n"
     ]
    }
   ],
   "source": [
    "# creating our fourth dataframe (playing stats)\n",
    "df_4 = pd.read_html(playing_stats)[0]\n",
    "# Combining the higher level with the lower level in the column index\n",
    "df_4.columns = [f'{higher}_{lower}' for higher, lower in df_4.columns]\n",
    "# looking at the columns\n",
    "for column in df_4.columns:\n",
    "    print(column)"
   ]
  },
  {
   "cell_type": "markdown",
   "id": "51cd1c5c",
   "metadata": {},
   "source": [
    "What we need to get from this dataframe are 'player', 'position', 'team', 'goals conceded'."
   ]
  },
  {
   "cell_type": "code",
   "execution_count": 16,
   "id": "564eafb5",
   "metadata": {},
   "outputs": [
    {
     "data": {
      "text/html": [
       "<div>\n",
       "<style scoped>\n",
       "    .dataframe tbody tr th:only-of-type {\n",
       "        vertical-align: middle;\n",
       "    }\n",
       "\n",
       "    .dataframe tbody tr th {\n",
       "        vertical-align: top;\n",
       "    }\n",
       "\n",
       "    .dataframe thead th {\n",
       "        text-align: right;\n",
       "    }\n",
       "</style>\n",
       "<table border=\"1\" class=\"dataframe\">\n",
       "  <thead>\n",
       "    <tr style=\"text-align: right;\">\n",
       "      <th></th>\n",
       "      <th>Name</th>\n",
       "      <th>Position</th>\n",
       "      <th>Team</th>\n",
       "      <th>Goals_Conceded</th>\n",
       "    </tr>\n",
       "  </thead>\n",
       "  <tbody>\n",
       "    <tr>\n",
       "      <th>0</th>\n",
       "      <td>Brenden Aaronson</td>\n",
       "      <td>MF,FW</td>\n",
       "      <td>Leeds United</td>\n",
       "      <td>58</td>\n",
       "    </tr>\n",
       "    <tr>\n",
       "      <th>1</th>\n",
       "      <td>Paxten Aaronson</td>\n",
       "      <td>MF,DF</td>\n",
       "      <td>Eint Frankfurt</td>\n",
       "      <td>0</td>\n",
       "    </tr>\n",
       "  </tbody>\n",
       "</table>\n",
       "</div>"
      ],
      "text/plain": [
       "               Name Position            Team Goals_Conceded\n",
       "0  Brenden Aaronson    MF,FW    Leeds United             58\n",
       "1   Paxten Aaronson    MF,DF  Eint Frankfurt              0"
      ]
     },
     "execution_count": 16,
     "metadata": {},
     "output_type": "execute_result"
    }
   ],
   "source": [
    "columns = ['Unnamed: 1_level_0_Player', 'Unnamed: 3_level_0_Pos', 'Unnamed: 4_level_0_Squad',\n",
    "          'Team Success_onGA']\n",
    "\n",
    "df_4 = df_4[columns]\n",
    "df_4.columns = ['Name', 'Position', 'Team', 'Goals_Conceded']\n",
    "df_4.head(2)"
   ]
  },
  {
   "cell_type": "code",
   "execution_count": 17,
   "id": "3107ac06",
   "metadata": {},
   "outputs": [
    {
     "name": "stdout",
     "output_type": "stream",
     "text": [
      "Unnamed: 0_level_0_Rk\n",
      "Unnamed: 1_level_0_Player\n",
      "Unnamed: 2_level_0_Nation\n",
      "Unnamed: 3_level_0_Pos\n",
      "Unnamed: 4_level_0_Squad\n",
      "Unnamed: 5_level_0_Comp\n",
      "Unnamed: 6_level_0_Age\n",
      "Unnamed: 7_level_0_Born\n",
      "Unnamed: 8_level_0_90s\n",
      "Standard_Gls\n",
      "Standard_Sh\n",
      "Standard_SoT\n",
      "Standard_SoT%\n",
      "Standard_Sh/90\n",
      "Standard_SoT/90\n",
      "Standard_G/Sh\n",
      "Standard_G/SoT\n",
      "Standard_Dist\n",
      "Standard_FK\n",
      "Standard_PK\n",
      "Standard_PKatt\n",
      "Expected_xG\n",
      "Expected_npxG\n",
      "Expected_npxG/Sh\n",
      "Expected_G-xG\n",
      "Expected_np:G-xG\n",
      "Unnamed: 26_level_0_Matches\n"
     ]
    }
   ],
   "source": [
    "# creating our fifth dataframe (shooting stats)\n",
    "df_5 = pd.read_html(shooting_stats)[0]\n",
    "# Combining the higher level with the lower level in the column index\n",
    "df_5.columns = [f'{higher}_{lower}' for higher, lower in df_5.columns]\n",
    "# looking at the columns\n",
    "for column in df_5.columns:\n",
    "    print(column)"
   ]
  },
  {
   "cell_type": "markdown",
   "id": "c13dc0ad",
   "metadata": {},
   "source": [
    "What we need to get from this dataframe are 'player', 'position', 'team', 'penalty kicks scored', 'penalty kicks attempted'."
   ]
  },
  {
   "cell_type": "code",
   "execution_count": 18,
   "id": "db067d2f",
   "metadata": {},
   "outputs": [
    {
     "data": {
      "text/html": [
       "<div>\n",
       "<style scoped>\n",
       "    .dataframe tbody tr th:only-of-type {\n",
       "        vertical-align: middle;\n",
       "    }\n",
       "\n",
       "    .dataframe tbody tr th {\n",
       "        vertical-align: top;\n",
       "    }\n",
       "\n",
       "    .dataframe thead th {\n",
       "        text-align: right;\n",
       "    }\n",
       "</style>\n",
       "<table border=\"1\" class=\"dataframe\">\n",
       "  <thead>\n",
       "    <tr style=\"text-align: right;\">\n",
       "      <th></th>\n",
       "      <th>Name</th>\n",
       "      <th>Position</th>\n",
       "      <th>Team</th>\n",
       "      <th>Penalty_Scored</th>\n",
       "      <th>Penalty_Attempted</th>\n",
       "    </tr>\n",
       "  </thead>\n",
       "  <tbody>\n",
       "    <tr>\n",
       "      <th>0</th>\n",
       "      <td>Brenden Aaronson</td>\n",
       "      <td>MF,FW</td>\n",
       "      <td>Leeds United</td>\n",
       "      <td>0</td>\n",
       "      <td>0</td>\n",
       "    </tr>\n",
       "    <tr>\n",
       "      <th>1</th>\n",
       "      <td>Paxten Aaronson</td>\n",
       "      <td>MF,DF</td>\n",
       "      <td>Eint Frankfurt</td>\n",
       "      <td>0</td>\n",
       "      <td>0</td>\n",
       "    </tr>\n",
       "  </tbody>\n",
       "</table>\n",
       "</div>"
      ],
      "text/plain": [
       "               Name Position            Team Penalty_Scored Penalty_Attempted\n",
       "0  Brenden Aaronson    MF,FW    Leeds United              0                 0\n",
       "1   Paxten Aaronson    MF,DF  Eint Frankfurt              0                 0"
      ]
     },
     "execution_count": 18,
     "metadata": {},
     "output_type": "execute_result"
    }
   ],
   "source": [
    "columns = ['Unnamed: 1_level_0_Player', 'Unnamed: 3_level_0_Pos', 'Unnamed: 4_level_0_Squad',\n",
    "          'Standard_PK', 'Standard_PKatt']\n",
    "\n",
    "df_5 = df_5[columns]\n",
    "df_5.columns = ['Name', 'Position', 'Team', 'Penalty_Scored', 'Penalty_Attempted']\n",
    "df_5.head(2)"
   ]
  },
  {
   "cell_type": "markdown",
   "id": "b1e64203",
   "metadata": {},
   "source": [
    "We create a 'penalty missed' column out of the columns we have."
   ]
  },
  {
   "cell_type": "code",
   "execution_count": 19,
   "id": "dffe11d2",
   "metadata": {},
   "outputs": [],
   "source": [
    "# Convert the columns to numeric, coercing non-convertible values to NaN\n",
    "df_5['Penalty_Attempted'] = pd.to_numeric(df_5['Penalty_Attempted'], errors='coerce')\n",
    "df_5['Penalty_Scored'] = pd.to_numeric(df_5['Penalty_Scored'], errors='coerce')"
   ]
  },
  {
   "cell_type": "code",
   "execution_count": 20,
   "id": "d01fa6ea",
   "metadata": {
    "scrolled": true
   },
   "outputs": [
    {
     "name": "stdout",
     "output_type": "stream",
     "text": [
      "<class 'pandas.core.frame.DataFrame'>\n",
      "RangeIndex: 3004 entries, 0 to 3003\n",
      "Data columns (total 5 columns):\n",
      " #   Column             Non-Null Count  Dtype  \n",
      "---  ------             --------------  -----  \n",
      " 0   Name               3004 non-null   object \n",
      " 1   Position           3004 non-null   object \n",
      " 2   Team               3004 non-null   object \n",
      " 3   Penalty_Scored     2889 non-null   float64\n",
      " 4   Penalty_Attempted  2889 non-null   float64\n",
      "dtypes: float64(2), object(3)\n",
      "memory usage: 117.5+ KB\n"
     ]
    }
   ],
   "source": [
    "df_5.info()"
   ]
  },
  {
   "cell_type": "code",
   "execution_count": 21,
   "id": "d5a2646c",
   "metadata": {
    "scrolled": true
   },
   "outputs": [],
   "source": [
    "df_5['Penalty_Missed'] = df_5['Penalty_Attempted'] - df_5['Penalty_Scored']"
   ]
  },
  {
   "cell_type": "code",
   "execution_count": 22,
   "id": "f05c774e",
   "metadata": {},
   "outputs": [],
   "source": [
    "# Dropping the 'column1' and 'column2' from the DataFrame\n",
    "df_5 = df_5.drop(['Penalty_Attempted', 'Penalty_Scored'], axis=1)"
   ]
  },
  {
   "cell_type": "code",
   "execution_count": 23,
   "id": "c7183105",
   "metadata": {},
   "outputs": [
    {
     "data": {
      "text/html": [
       "<div>\n",
       "<style scoped>\n",
       "    .dataframe tbody tr th:only-of-type {\n",
       "        vertical-align: middle;\n",
       "    }\n",
       "\n",
       "    .dataframe tbody tr th {\n",
       "        vertical-align: top;\n",
       "    }\n",
       "\n",
       "    .dataframe thead th {\n",
       "        text-align: right;\n",
       "    }\n",
       "</style>\n",
       "<table border=\"1\" class=\"dataframe\">\n",
       "  <thead>\n",
       "    <tr style=\"text-align: right;\">\n",
       "      <th></th>\n",
       "      <th>Name</th>\n",
       "      <th>Position</th>\n",
       "      <th>Team</th>\n",
       "      <th>Penalty_Missed</th>\n",
       "    </tr>\n",
       "  </thead>\n",
       "  <tbody>\n",
       "    <tr>\n",
       "      <th>0</th>\n",
       "      <td>Brenden Aaronson</td>\n",
       "      <td>MF,FW</td>\n",
       "      <td>Leeds United</td>\n",
       "      <td>0.0</td>\n",
       "    </tr>\n",
       "    <tr>\n",
       "      <th>1</th>\n",
       "      <td>Paxten Aaronson</td>\n",
       "      <td>MF,DF</td>\n",
       "      <td>Eint Frankfurt</td>\n",
       "      <td>0.0</td>\n",
       "    </tr>\n",
       "  </tbody>\n",
       "</table>\n",
       "</div>"
      ],
      "text/plain": [
       "               Name Position            Team  Penalty_Missed\n",
       "0  Brenden Aaronson    MF,FW    Leeds United             0.0\n",
       "1   Paxten Aaronson    MF,DF  Eint Frankfurt             0.0"
      ]
     },
     "execution_count": 23,
     "metadata": {},
     "output_type": "execute_result"
    }
   ],
   "source": [
    "df_5.head(2)"
   ]
  },
  {
   "cell_type": "markdown",
   "id": "b0d4aded",
   "metadata": {},
   "source": [
    "### Converting all stats into numeric"
   ]
  },
  {
   "cell_type": "markdown",
   "id": "5b186211",
   "metadata": {},
   "source": [
    "Let's convert all the required values into numeric."
   ]
  },
  {
   "cell_type": "code",
   "execution_count": 24,
   "id": "f7ac4d98",
   "metadata": {},
   "outputs": [],
   "source": [
    "df_1['Goals'] = pd.to_numeric(df_1['Goals'], errors='coerce')\n",
    "df_1['Assists'] = pd.to_numeric(df_1['Assists'], errors='coerce')\n",
    "df_1['Yellow_Cards'] = pd.to_numeric(df_1['Yellow_Cards'], errors='coerce')\n",
    "df_1['Red_Cards'] = pd.to_numeric(df_1['Red_Cards'], errors='coerce')"
   ]
  },
  {
   "cell_type": "code",
   "execution_count": 25,
   "id": "c5445ba8",
   "metadata": {},
   "outputs": [
    {
     "name": "stdout",
     "output_type": "stream",
     "text": [
      "<class 'pandas.core.frame.DataFrame'>\n",
      "RangeIndex: 3004 entries, 0 to 3003\n",
      "Data columns (total 7 columns):\n",
      " #   Column        Non-Null Count  Dtype  \n",
      "---  ------        --------------  -----  \n",
      " 0   Name          3004 non-null   object \n",
      " 1   Position      3004 non-null   object \n",
      " 2   Team          3004 non-null   object \n",
      " 3   Goals         2889 non-null   float64\n",
      " 4   Assists       2889 non-null   float64\n",
      " 5   Yellow_Cards  2889 non-null   float64\n",
      " 6   Red_Cards     2889 non-null   float64\n",
      "dtypes: float64(4), object(3)\n",
      "memory usage: 164.4+ KB\n"
     ]
    }
   ],
   "source": [
    "df_1.info()"
   ]
  },
  {
   "cell_type": "code",
   "execution_count": 26,
   "id": "c2fc034b",
   "metadata": {},
   "outputs": [],
   "source": [
    "df_2['Conceded_per_90'] = pd.to_numeric(df_2['Conceded_per_90'], errors='coerce')\n",
    "df_2['Saves'] = pd.to_numeric(df_2['Saves'], errors='coerce')\n",
    "df_2['Clean_Sheets'] = pd.to_numeric(df_2['Clean_Sheets'], errors='coerce')\n",
    "df_2['Penalties_Saved'] = pd.to_numeric(df_2['Penalties_Saved'], errors='coerce')"
   ]
  },
  {
   "cell_type": "code",
   "execution_count": 27,
   "id": "bb371970",
   "metadata": {},
   "outputs": [
    {
     "name": "stdout",
     "output_type": "stream",
     "text": [
      "<class 'pandas.core.frame.DataFrame'>\n",
      "RangeIndex: 216 entries, 0 to 215\n",
      "Data columns (total 7 columns):\n",
      " #   Column           Non-Null Count  Dtype  \n",
      "---  ------           --------------  -----  \n",
      " 0   Name             216 non-null    object \n",
      " 1   Position         216 non-null    object \n",
      " 2   Team             216 non-null    object \n",
      " 3   Conceded_per_90  207 non-null    float64\n",
      " 4   Saves            207 non-null    float64\n",
      " 5   Clean_Sheets     207 non-null    float64\n",
      " 6   Penalties_Saved  207 non-null    float64\n",
      "dtypes: float64(4), object(3)\n",
      "memory usage: 11.9+ KB\n"
     ]
    }
   ],
   "source": [
    "df_2.info()"
   ]
  },
  {
   "cell_type": "code",
   "execution_count": 28,
   "id": "604de993",
   "metadata": {},
   "outputs": [],
   "source": [
    "df_3['Own_Goals'] = pd.to_numeric(df_3['Own_Goals'], errors='coerce')"
   ]
  },
  {
   "cell_type": "code",
   "execution_count": 29,
   "id": "dc66faca",
   "metadata": {},
   "outputs": [
    {
     "name": "stdout",
     "output_type": "stream",
     "text": [
      "<class 'pandas.core.frame.DataFrame'>\n",
      "RangeIndex: 3004 entries, 0 to 3003\n",
      "Data columns (total 4 columns):\n",
      " #   Column     Non-Null Count  Dtype  \n",
      "---  ------     --------------  -----  \n",
      " 0   Name       3004 non-null   object \n",
      " 1   Position   3004 non-null   object \n",
      " 2   Team       3004 non-null   object \n",
      " 3   Own_Goals  2889 non-null   float64\n",
      "dtypes: float64(1), object(3)\n",
      "memory usage: 94.0+ KB\n"
     ]
    }
   ],
   "source": [
    "df_3.info()"
   ]
  },
  {
   "cell_type": "code",
   "execution_count": 30,
   "id": "cfa32d4c",
   "metadata": {},
   "outputs": [],
   "source": [
    "df_4['Goals_Conceded'] = pd.to_numeric(df_4['Goals_Conceded'], errors='coerce')"
   ]
  },
  {
   "cell_type": "code",
   "execution_count": 31,
   "id": "e38005f1",
   "metadata": {},
   "outputs": [
    {
     "name": "stdout",
     "output_type": "stream",
     "text": [
      "<class 'pandas.core.frame.DataFrame'>\n",
      "RangeIndex: 3668 entries, 0 to 3667\n",
      "Data columns (total 4 columns):\n",
      " #   Column          Non-Null Count  Dtype  \n",
      "---  ------          --------------  -----  \n",
      " 0   Name            3668 non-null   object \n",
      " 1   Position        3668 non-null   object \n",
      " 2   Team            3668 non-null   object \n",
      " 3   Goals_Conceded  2891 non-null   float64\n",
      "dtypes: float64(1), object(3)\n",
      "memory usage: 114.8+ KB\n"
     ]
    }
   ],
   "source": [
    "df_4.info()"
   ]
  },
  {
   "cell_type": "code",
   "execution_count": 32,
   "id": "85687518",
   "metadata": {},
   "outputs": [],
   "source": [
    "df_5['Penalty_Missed'] = pd.to_numeric(df_5['Penalty_Missed'], errors='coerce')"
   ]
  },
  {
   "cell_type": "code",
   "execution_count": 33,
   "id": "b0c0a447",
   "metadata": {},
   "outputs": [
    {
     "name": "stdout",
     "output_type": "stream",
     "text": [
      "<class 'pandas.core.frame.DataFrame'>\n",
      "RangeIndex: 3004 entries, 0 to 3003\n",
      "Data columns (total 4 columns):\n",
      " #   Column          Non-Null Count  Dtype  \n",
      "---  ------          --------------  -----  \n",
      " 0   Name            3004 non-null   object \n",
      " 1   Position        3004 non-null   object \n",
      " 2   Team            3004 non-null   object \n",
      " 3   Penalty_Missed  2889 non-null   float64\n",
      "dtypes: float64(1), object(3)\n",
      "memory usage: 94.0+ KB\n"
     ]
    }
   ],
   "source": [
    "df_5.info()"
   ]
  },
  {
   "cell_type": "markdown",
   "id": "86bd78b4",
   "metadata": {},
   "source": [
    "### Merging Duplicate Rows"
   ]
  },
  {
   "cell_type": "code",
   "execution_count": 34,
   "id": "9b98f230",
   "metadata": {},
   "outputs": [],
   "source": [
    "# Define the aggregation methods for each column\n",
    "aggregation_functions = {'Position': 'first', 'Team': 'first', 'Goals': 'sum',\n",
    "                        'Assists': 'sum', 'Yellow_Cards': 'sum', 'Red_Cards': 'sum'}\n",
    "\n",
    "# Apply the aggregation using the defined functions\n",
    "df_1 = df_1.groupby('Name', as_index=False).agg(aggregation_functions)"
   ]
  },
  {
   "cell_type": "code",
   "execution_count": 35,
   "id": "9aa59553",
   "metadata": {},
   "outputs": [],
   "source": [
    "aggregation_functions = {'Position': 'first', 'Team': 'first', 'Conceded_per_90': 'mean',\n",
    "                        'Saves': 'sum', 'Clean_Sheets': 'sum', 'Penalties_Saved': 'sum'}\n",
    "df_2 = df_2.groupby('Name', as_index=False).agg(aggregation_functions)"
   ]
  },
  {
   "cell_type": "code",
   "execution_count": 36,
   "id": "c6324e7e",
   "metadata": {},
   "outputs": [],
   "source": [
    "aggregation_functions = {'Position': 'first', 'Team': 'first', 'Own_Goals': 'sum'}\n",
    "df_3 = df_3.groupby('Name', as_index=False).agg(aggregation_functions)"
   ]
  },
  {
   "cell_type": "code",
   "execution_count": 37,
   "id": "da44b0b6",
   "metadata": {},
   "outputs": [],
   "source": [
    "aggregation_functions = {'Position': 'first', 'Team': 'first', 'Goals_Conceded': 'sum'}\n",
    "df_4 = df_4.groupby('Name', as_index=False).agg(aggregation_functions)"
   ]
  },
  {
   "cell_type": "code",
   "execution_count": 38,
   "id": "8cc635b7",
   "metadata": {},
   "outputs": [],
   "source": [
    "aggregation_functions = {'Position': 'first', 'Team': 'first', 'Penalty_Missed': 'sum'}\n",
    "df_5 = df_5.groupby('Name', as_index=False).agg(aggregation_functions)"
   ]
  },
  {
   "cell_type": "markdown",
   "id": "1214af29",
   "metadata": {},
   "source": [
    "### Merging all dataframes"
   ]
  },
  {
   "cell_type": "markdown",
   "id": "6735c160",
   "metadata": {},
   "source": [
    "Now, we have 5 dataframes that have all the stats we need. We are going to merge them all to have a single dataframe that will carry us through our analysis."
   ]
  },
  {
   "cell_type": "code",
   "execution_count": 39,
   "id": "8a48a9e3",
   "metadata": {},
   "outputs": [],
   "source": [
    "data = pd.merge(df_1, df_2, how='outer', on=['Name', 'Position', 'Team'])"
   ]
  },
  {
   "cell_type": "code",
   "execution_count": 40,
   "id": "38417278",
   "metadata": {},
   "outputs": [],
   "source": [
    "data = pd.merge(data, df_3, how='outer', on=['Name', 'Position', 'Team'])"
   ]
  },
  {
   "cell_type": "code",
   "execution_count": 41,
   "id": "dac6e520",
   "metadata": {},
   "outputs": [],
   "source": [
    "data = pd.merge(data, df_4, how='outer', on=['Name', 'Position', 'Team'])"
   ]
  },
  {
   "cell_type": "code",
   "execution_count": 42,
   "id": "9272572f",
   "metadata": {},
   "outputs": [],
   "source": [
    "data = pd.merge(data, df_5, how='outer', on=['Name', 'Position', 'Team'])"
   ]
  },
  {
   "cell_type": "code",
   "execution_count": 43,
   "id": "0b05de1a",
   "metadata": {},
   "outputs": [
    {
     "name": "stdout",
     "output_type": "stream",
     "text": [
      "<class 'pandas.core.frame.DataFrame'>\n",
      "Int64Index: 3333 entries, 0 to 3332\n",
      "Data columns (total 14 columns):\n",
      " #   Column           Non-Null Count  Dtype  \n",
      "---  ------           --------------  -----  \n",
      " 0   Name             3333 non-null   object \n",
      " 1   Position         3333 non-null   object \n",
      " 2   Team             3333 non-null   object \n",
      " 3   Goals            2716 non-null   float64\n",
      " 4   Assists          2716 non-null   float64\n",
      " 5   Yellow_Cards     2716 non-null   float64\n",
      " 6   Red_Cards        2716 non-null   float64\n",
      " 7   Conceded_per_90  201 non-null    float64\n",
      " 8   Saves            203 non-null    float64\n",
      " 9   Clean_Sheets     203 non-null    float64\n",
      " 10  Penalties_Saved  203 non-null    float64\n",
      " 11  Own_Goals        2716 non-null   float64\n",
      " 12  Goals_Conceded   3312 non-null   float64\n",
      " 13  Penalty_Missed   2716 non-null   float64\n",
      "dtypes: float64(11), object(3)\n",
      "memory usage: 390.6+ KB\n"
     ]
    }
   ],
   "source": [
    "data.info()"
   ]
  },
  {
   "cell_type": "markdown",
   "id": "68d1f1b6",
   "metadata": {},
   "source": [
    "Merging Duplicate Rows"
   ]
  },
  {
   "cell_type": "code",
   "execution_count": 44,
   "id": "2e876b5b",
   "metadata": {},
   "outputs": [],
   "source": [
    "# Define the aggregation methods for each column\n",
    "aggregation_functions = {'Position': 'first', 'Team': 'first', 'Goals': 'sum',\n",
    "                        'Assists': 'sum', 'Yellow_Cards': 'sum', 'Red_Cards': 'sum',\n",
    "                        'Conceded_per_90': 'mean', 'Saves': 'sum', 'Clean_Sheets': 'sum',\n",
    "                        'Penalties_Saved': 'sum', 'Own_Goals': 'sum', 'Goals_Conceded': 'sum',\n",
    "                        'Penalty_Missed': 'sum'}\n",
    "\n",
    "# Apply the aggregation using the defined functions\n",
    "data = data.groupby('Name', as_index=False).agg(aggregation_functions)"
   ]
  },
  {
   "cell_type": "markdown",
   "id": "62491f05",
   "metadata": {},
   "source": [
    "## Exploratory Data Analysis"
   ]
  },
  {
   "cell_type": "code",
   "execution_count": 45,
   "id": "f09074ec",
   "metadata": {},
   "outputs": [
    {
     "data": {
      "text/html": [
       "<div>\n",
       "<style scoped>\n",
       "    .dataframe tbody tr th:only-of-type {\n",
       "        vertical-align: middle;\n",
       "    }\n",
       "\n",
       "    .dataframe tbody tr th {\n",
       "        vertical-align: top;\n",
       "    }\n",
       "\n",
       "    .dataframe thead th {\n",
       "        text-align: right;\n",
       "    }\n",
       "</style>\n",
       "<table border=\"1\" class=\"dataframe\">\n",
       "  <thead>\n",
       "    <tr style=\"text-align: right;\">\n",
       "      <th></th>\n",
       "      <th>Goals</th>\n",
       "      <th>Assists</th>\n",
       "      <th>Yellow_Cards</th>\n",
       "      <th>Red_Cards</th>\n",
       "      <th>Conceded_per_90</th>\n",
       "      <th>Saves</th>\n",
       "      <th>Clean_Sheets</th>\n",
       "      <th>Penalties_Saved</th>\n",
       "      <th>Own_Goals</th>\n",
       "      <th>Goals_Conceded</th>\n",
       "      <th>Penalty_Missed</th>\n",
       "    </tr>\n",
       "  </thead>\n",
       "  <tbody>\n",
       "    <tr>\n",
       "      <th>count</th>\n",
       "      <td>3312.000000</td>\n",
       "      <td>3312.000000</td>\n",
       "      <td>3312.000000</td>\n",
       "      <td>3312.000000</td>\n",
       "      <td>201.000000</td>\n",
       "      <td>3312.000000</td>\n",
       "      <td>3312.000000</td>\n",
       "      <td>3312.000000</td>\n",
       "      <td>3312.000000</td>\n",
       "      <td>3312.000000</td>\n",
       "      <td>3312.000000</td>\n",
       "    </tr>\n",
       "    <tr>\n",
       "      <th>mean</th>\n",
       "      <td>1.474336</td>\n",
       "      <td>1.027174</td>\n",
       "      <td>2.282911</td>\n",
       "      <td>0.114432</td>\n",
       "      <td>1.574453</td>\n",
       "      <td>3.216787</td>\n",
       "      <td>0.288647</td>\n",
       "      <td>0.027476</td>\n",
       "      <td>0.050725</td>\n",
       "      <td>16.701993</td>\n",
       "      <td>0.040157</td>\n",
       "    </tr>\n",
       "    <tr>\n",
       "      <th>std</th>\n",
       "      <td>3.029295</td>\n",
       "      <td>1.843922</td>\n",
       "      <td>2.734939</td>\n",
       "      <td>0.374202</td>\n",
       "      <td>1.432214</td>\n",
       "      <td>16.421071</td>\n",
       "      <td>1.636754</td>\n",
       "      <td>0.222896</td>\n",
       "      <td>0.234117</td>\n",
       "      <td>16.293118</td>\n",
       "      <td>0.229018</td>\n",
       "    </tr>\n",
       "    <tr>\n",
       "      <th>min</th>\n",
       "      <td>0.000000</td>\n",
       "      <td>0.000000</td>\n",
       "      <td>0.000000</td>\n",
       "      <td>0.000000</td>\n",
       "      <td>0.000000</td>\n",
       "      <td>0.000000</td>\n",
       "      <td>0.000000</td>\n",
       "      <td>0.000000</td>\n",
       "      <td>0.000000</td>\n",
       "      <td>0.000000</td>\n",
       "      <td>0.000000</td>\n",
       "    </tr>\n",
       "    <tr>\n",
       "      <th>25%</th>\n",
       "      <td>0.000000</td>\n",
       "      <td>0.000000</td>\n",
       "      <td>0.000000</td>\n",
       "      <td>0.000000</td>\n",
       "      <td>1.000000</td>\n",
       "      <td>0.000000</td>\n",
       "      <td>0.000000</td>\n",
       "      <td>0.000000</td>\n",
       "      <td>0.000000</td>\n",
       "      <td>1.000000</td>\n",
       "      <td>0.000000</td>\n",
       "    </tr>\n",
       "    <tr>\n",
       "      <th>50%</th>\n",
       "      <td>0.000000</td>\n",
       "      <td>0.000000</td>\n",
       "      <td>1.000000</td>\n",
       "      <td>0.000000</td>\n",
       "      <td>1.410000</td>\n",
       "      <td>0.000000</td>\n",
       "      <td>0.000000</td>\n",
       "      <td>0.000000</td>\n",
       "      <td>0.000000</td>\n",
       "      <td>13.000000</td>\n",
       "      <td>0.000000</td>\n",
       "    </tr>\n",
       "    <tr>\n",
       "      <th>75%</th>\n",
       "      <td>2.000000</td>\n",
       "      <td>1.000000</td>\n",
       "      <td>4.000000</td>\n",
       "      <td>0.000000</td>\n",
       "      <td>1.780000</td>\n",
       "      <td>0.000000</td>\n",
       "      <td>0.000000</td>\n",
       "      <td>0.000000</td>\n",
       "      <td>0.000000</td>\n",
       "      <td>28.000000</td>\n",
       "      <td>0.000000</td>\n",
       "    </tr>\n",
       "    <tr>\n",
       "      <th>max</th>\n",
       "      <td>36.000000</td>\n",
       "      <td>16.000000</td>\n",
       "      <td>14.000000</td>\n",
       "      <td>3.000000</td>\n",
       "      <td>15.000000</td>\n",
       "      <td>154.000000</td>\n",
       "      <td>26.000000</td>\n",
       "      <td>4.000000</td>\n",
       "      <td>3.000000</td>\n",
       "      <td>82.000000</td>\n",
       "      <td>4.000000</td>\n",
       "    </tr>\n",
       "  </tbody>\n",
       "</table>\n",
       "</div>"
      ],
      "text/plain": [
       "             Goals      Assists  Yellow_Cards    Red_Cards  Conceded_per_90  \\\n",
       "count  3312.000000  3312.000000   3312.000000  3312.000000       201.000000   \n",
       "mean      1.474336     1.027174      2.282911     0.114432         1.574453   \n",
       "std       3.029295     1.843922      2.734939     0.374202         1.432214   \n",
       "min       0.000000     0.000000      0.000000     0.000000         0.000000   \n",
       "25%       0.000000     0.000000      0.000000     0.000000         1.000000   \n",
       "50%       0.000000     0.000000      1.000000     0.000000         1.410000   \n",
       "75%       2.000000     1.000000      4.000000     0.000000         1.780000   \n",
       "max      36.000000    16.000000     14.000000     3.000000        15.000000   \n",
       "\n",
       "             Saves  Clean_Sheets  Penalties_Saved    Own_Goals  \\\n",
       "count  3312.000000   3312.000000      3312.000000  3312.000000   \n",
       "mean      3.216787      0.288647         0.027476     0.050725   \n",
       "std      16.421071      1.636754         0.222896     0.234117   \n",
       "min       0.000000      0.000000         0.000000     0.000000   \n",
       "25%       0.000000      0.000000         0.000000     0.000000   \n",
       "50%       0.000000      0.000000         0.000000     0.000000   \n",
       "75%       0.000000      0.000000         0.000000     0.000000   \n",
       "max     154.000000     26.000000         4.000000     3.000000   \n",
       "\n",
       "       Goals_Conceded  Penalty_Missed  \n",
       "count     3312.000000     3312.000000  \n",
       "mean        16.701993        0.040157  \n",
       "std         16.293118        0.229018  \n",
       "min          0.000000        0.000000  \n",
       "25%          1.000000        0.000000  \n",
       "50%         13.000000        0.000000  \n",
       "75%         28.000000        0.000000  \n",
       "max         82.000000        4.000000  "
      ]
     },
     "execution_count": 45,
     "metadata": {},
     "output_type": "execute_result"
    }
   ],
   "source": [
    "data.describe()"
   ]
  },
  {
   "cell_type": "markdown",
   "id": "f34248e5",
   "metadata": {},
   "source": [
    "__Distribution of Goals:__ This histogram demonstrates the distribution of the number of goals scored by players. The visualization provides insights into the frequency of different goal ranges, helping to identify the most common goal-scoring patterns among the players in the dataset."
   ]
  },
  {
   "cell_type": "code",
   "execution_count": 46,
   "id": "6595faa6",
   "metadata": {},
   "outputs": [
    {
     "data": {
      "image/png": "[encoded data removed]",
      "text/plain": [
       "<Figure size 1000x600 with 1 Axes>"
      ]
     },
     "metadata": {},
     "output_type": "display_data"
    }
   ],
   "source": [
    "plt.figure(figsize=(10,6))\n",
    "sns.histplot(data['Goals'], kde=True, bins=30, color='skyblue')\n",
    "plt.title('Distribution of Goals')\n",
    "plt.xlabel('Goals')\n",
    "plt.ylabel('Count')\n",
    "plt.show()"
   ]
  },
  {
   "cell_type": "markdown",
   "id": "d1eff617",
   "metadata": {},
   "source": [
    "__Goals vs Assists Scatter Plot:__ This scatter plot illustrates the relationship between the number of goals and the number of assists for each player. By plotting these two variables, it becomes possible to discern any potential correlation or trend between scoring goals and assisting in goals. This visualization helps in understanding whether players who score more goals also tend to assist more frequently, and vice versa."
   ]
  },
  {
   "cell_type": "code",
   "execution_count": 47,
   "id": "04180738",
   "metadata": {},
   "outputs": [
    {
     "data": {
      "image/png": "[encoded data removed]",
      "text/plain": [
       "<Figure size 1000x600 with 1 Axes>"
      ]
     },
     "metadata": {},
     "output_type": "display_data"
    }
   ],
   "source": [
    "# Scatter plot of goals vs assists\n",
    "plt.figure(figsize=(10,6))\n",
    "sns.scatterplot(x='Goals', y='Assists', data=data, color='coral')\n",
    "plt.title('Goals vs Assists')\n",
    "plt.xlabel('Goals')\n",
    "plt.ylabel('Assists')\n",
    "plt.show()"
   ]
  },
  {
   "cell_type": "markdown",
   "id": "06f00a37",
   "metadata": {},
   "source": [
    "__Yellow Cards by Position Bar Plot:__ This bar plot showcases the average number of yellow cards received by players in different positions. By comparing the yellow card frequency across various positions, this graph aids in identifying which positions tend to receive more or fewer yellow cards on average, providing insights into the disciplinary tendencies of different player roles."
   ]
  },
  {
   "cell_type": "code",
   "execution_count": 48,
   "id": "390d9cb8",
   "metadata": {},
   "outputs": [
    {
     "data": {
      "image/png": "[encoded data removed]",
      "text/plain": [
       "<Figure size 1000x600 with 1 Axes>"
      ]
     },
     "metadata": {},
     "output_type": "display_data"
    }
   ],
   "source": [
    "# Bar plot of yellow cards by position\n",
    "plt.figure(figsize=(10,6))\n",
    "sns.barplot(x='Position', y='Yellow_Cards', data=data, ci=None, palette='muted')\n",
    "plt.title('Yellow Cards by Position')\n",
    "plt.xlabel('Position')\n",
    "plt.ylabel('Yellow Cards')\n",
    "plt.show()"
   ]
  },
  {
   "cell_type": "markdown",
   "id": "a64b4988",
   "metadata": {},
   "source": [
    "__Correlation Matrix Heatmap:__ The heatmap presents a correlation matrix that highlights the relationships between different numerical variables in the dataset. The color intensity and numerical values in the heatmap indicate the strength and direction of the correlations. This visualization assists in understanding the interdependencies between different statistical attributes such as goals, assists, saves, and other player performance metrics, providing valuable insights into the connections and associations within the data."
   ]
  },
  {
   "cell_type": "code",
   "execution_count": 49,
   "id": "86f23bc2",
   "metadata": {},
   "outputs": [
    {
     "data": {
      "image/png": "[encoded data removed]",
      "text/plain": [
       "<Figure size 1200x800 with 2 Axes>"
      ]
     },
     "metadata": {},
     "output_type": "display_data"
    }
   ],
   "source": [
    "# Correlation matrix\n",
    "plt.figure(figsize=(12, 8))\n",
    "sns.heatmap(data.corr(), annot=True, cmap='coolwarm', fmt='.2f')\n",
    "plt.title('Correlation Matrix')\n",
    "plt.show()"
   ]
  },
  {
   "cell_type": "markdown",
   "id": "32764201",
   "metadata": {},
   "source": [
    "## Data Analysis"
   ]
  },
  {
   "cell_type": "markdown",
   "id": "71154c12",
   "metadata": {},
   "source": [
    "Now that we possess a comprehensive dataframe encompassing all the necessary statistics to ascertain the top performers in the Fantasy Premier League, we can initiate our analysis. As previously stated, we will proceed with the analysis systematically, focusing on each position individually. This approach ensures that we accurately assess the impact of each statistic on our overall scoring system, preventing any misinterpretation of the significance of player performance in our evaluation."
   ]
  },
  {
   "cell_type": "markdown",
   "id": "a469c031",
   "metadata": {},
   "source": [
    "### Goalkeeper Analysis"
   ]
  },
  {
   "cell_type": "markdown",
   "id": "f5ff74c4",
   "metadata": {},
   "source": [
    "Before commencing our analysis for the goalkeepers, it's crucial to recall the criteria used for assessing the performance of goalkeepers in the game. Provided below are the essential statistics considered for evaluating goalkeepers in the Fantasy Premier League."
   ]
  },
  {
   "cell_type": "markdown",
   "id": "fcc47919",
   "metadata": {},
   "source": [
    "- Clean Sheets\n",
    "- Saves\n",
    "- Penalty Saves\n",
    "- Goals Conceded\n",
    "- Yellow Card\n",
    "- Red Card\n",
    "- Own Goal"
   ]
  },
  {
   "cell_type": "code",
   "execution_count": 50,
   "id": "e25d6e1b",
   "metadata": {},
   "outputs": [],
   "source": [
    "# Creating our dataframe for goalkeepers\n",
    "gk_df = data[data['Position'] == 'GK']"
   ]
  },
  {
   "cell_type": "markdown",
   "id": "47afdd70",
   "metadata": {},
   "source": [
    "Formula we are going to use to find the points for each goalkeeper:\n",
    "\n",
    "- (Goals * 6) + (Assists * 3) + (Clean Sheet * 4) + (Saves * (1/3)) + (Penalties Saved * 5) - (Goals Conceded * (1/2)) - (Yellow Cards * 1) - (Red Cards * 3) - (Own Goals * 2)"
   ]
  },
  {
   "cell_type": "code",
   "execution_count": 51,
   "id": "7603fad6",
   "metadata": {},
   "outputs": [],
   "source": [
    "# Create a copy of the DataFrame to avoid SettingWithCopyWarning\n",
    "gk_df_copy = gk_df.copy()\n",
    "\n",
    "# Perform operations on the copy\n",
    "gk_df_copy.loc[:, 'Points'] = (gk_df_copy['Goals'] * 6) + (gk_df_copy['Assists'] * 3) + (gk_df_copy['Clean_Sheets'] * 4)\n",
    "gk_df_copy.loc[:, 'Points'] = gk_df_copy['Points'] + (gk_df_copy['Saves'] / 3) + (gk_df_copy['Penalties_Saved'] * 5)\n",
    "gk_df_copy.loc[:, 'Points'] = gk_df_copy['Points'] - (gk_df_copy['Goals_Conceded'] / 2) - (gk_df_copy['Yellow_Cards'])\n",
    "gk_df_copy.loc[:, 'Points'] = gk_df_copy['Points'] - (gk_df_copy['Red_Cards'] * 3) - (gk_df_copy['Own_Goals'] * 2)\n",
    "\n",
    "# After operations, we can reassign the modified copy back to the original DataFrame if needed\n",
    "gk_df = gk_df_copy"
   ]
  },
  {
   "cell_type": "code",
   "execution_count": 52,
   "id": "6eb70c29",
   "metadata": {},
   "outputs": [],
   "source": [
    "gk_df.sort_values(by='Points', ascending=False, inplace=True)"
   ]
  },
  {
   "cell_type": "code",
   "execution_count": 53,
   "id": "6639f037",
   "metadata": {},
   "outputs": [
    {
     "data": {
      "text/html": [
       "<div>\n",
       "<style scoped>\n",
       "    .dataframe tbody tr th:only-of-type {\n",
       "        vertical-align: middle;\n",
       "    }\n",
       "\n",
       "    .dataframe tbody tr th {\n",
       "        vertical-align: top;\n",
       "    }\n",
       "\n",
       "    .dataframe thead th {\n",
       "        text-align: right;\n",
       "    }\n",
       "</style>\n",
       "<table border=\"1\" class=\"dataframe\">\n",
       "  <thead>\n",
       "    <tr style=\"text-align: right;\">\n",
       "      <th></th>\n",
       "      <th>Name</th>\n",
       "      <th>Team</th>\n",
       "      <th>Points</th>\n",
       "    </tr>\n",
       "  </thead>\n",
       "  <tbody>\n",
       "    <tr>\n",
       "      <th>0</th>\n",
       "      <td>Marc-André ter Stegen</td>\n",
       "      <td>Barcelona</td>\n",
       "      <td>122.666667</td>\n",
       "    </tr>\n",
       "    <tr>\n",
       "      <th>1</th>\n",
       "      <td>Ivan Provedel</td>\n",
       "      <td>Lazio</td>\n",
       "      <td>101.000000</td>\n",
       "    </tr>\n",
       "    <tr>\n",
       "      <th>2</th>\n",
       "      <td>David Soria</td>\n",
       "      <td>Getafe</td>\n",
       "      <td>87.166667</td>\n",
       "    </tr>\n",
       "    <tr>\n",
       "      <th>3</th>\n",
       "      <td>David de Gea</td>\n",
       "      <td>Manchester Utd</td>\n",
       "      <td>84.500000</td>\n",
       "    </tr>\n",
       "    <tr>\n",
       "      <th>4</th>\n",
       "      <td>Álex Remiro</td>\n",
       "      <td>Real Sociedad</td>\n",
       "      <td>79.500000</td>\n",
       "    </tr>\n",
       "    <tr>\n",
       "      <th>5</th>\n",
       "      <td>Alex Meret</td>\n",
       "      <td>Napoli</td>\n",
       "      <td>79.000000</td>\n",
       "    </tr>\n",
       "    <tr>\n",
       "      <th>6</th>\n",
       "      <td>Alisson</td>\n",
       "      <td>Liverpool</td>\n",
       "      <td>76.500000</td>\n",
       "    </tr>\n",
       "    <tr>\n",
       "      <th>7</th>\n",
       "      <td>Brice Samba</td>\n",
       "      <td>Lens</td>\n",
       "      <td>75.666667</td>\n",
       "    </tr>\n",
       "    <tr>\n",
       "      <th>8</th>\n",
       "      <td>Yehvann Diouf</td>\n",
       "      <td>Reims</td>\n",
       "      <td>74.166667</td>\n",
       "    </tr>\n",
       "    <tr>\n",
       "      <th>9</th>\n",
       "      <td>Gianluigi Donnarumma</td>\n",
       "      <td>Paris S-G</td>\n",
       "      <td>74.000000</td>\n",
       "    </tr>\n",
       "    <tr>\n",
       "      <th>10</th>\n",
       "      <td>David Raya</td>\n",
       "      <td>Brentford</td>\n",
       "      <td>73.333333</td>\n",
       "    </tr>\n",
       "    <tr>\n",
       "      <th>11</th>\n",
       "      <td>Mory Diaw</td>\n",
       "      <td>Clermont Foot</td>\n",
       "      <td>73.166667</td>\n",
       "    </tr>\n",
       "    <tr>\n",
       "      <th>12</th>\n",
       "      <td>Nick Pope</td>\n",
       "      <td>Newcastle Utd</td>\n",
       "      <td>72.333333</td>\n",
       "    </tr>\n",
       "    <tr>\n",
       "      <th>13</th>\n",
       "      <td>Jeremías Ledesma</td>\n",
       "      <td>Cádiz</td>\n",
       "      <td>70.333333</td>\n",
       "    </tr>\n",
       "    <tr>\n",
       "      <th>14</th>\n",
       "      <td>Kasper Schmeichel</td>\n",
       "      <td>Nice</td>\n",
       "      <td>66.500000</td>\n",
       "    </tr>\n",
       "    <tr>\n",
       "      <th>15</th>\n",
       "      <td>Steve Mandanda</td>\n",
       "      <td>Rennes</td>\n",
       "      <td>65.833333</td>\n",
       "    </tr>\n",
       "    <tr>\n",
       "      <th>16</th>\n",
       "      <td>Koen Casteels</td>\n",
       "      <td>Wolfsburg</td>\n",
       "      <td>65.666667</td>\n",
       "    </tr>\n",
       "    <tr>\n",
       "      <th>17</th>\n",
       "      <td>Mark Flekken</td>\n",
       "      <td>Freiburg</td>\n",
       "      <td>65.333333</td>\n",
       "    </tr>\n",
       "    <tr>\n",
       "      <th>18</th>\n",
       "      <td>Wojciech Szczęsny</td>\n",
       "      <td>Juventus</td>\n",
       "      <td>65.333333</td>\n",
       "    </tr>\n",
       "    <tr>\n",
       "      <th>19</th>\n",
       "      <td>Aaron Ramsdale</td>\n",
       "      <td>Arsenal</td>\n",
       "      <td>64.833333</td>\n",
       "    </tr>\n",
       "  </tbody>\n",
       "</table>\n",
       "</div>"
      ],
      "text/plain": [
       "                     Name            Team      Points\n",
       "0   Marc-André ter Stegen       Barcelona  122.666667\n",
       "1           Ivan Provedel           Lazio  101.000000\n",
       "2             David Soria          Getafe   87.166667\n",
       "3            David de Gea  Manchester Utd   84.500000\n",
       "4             Álex Remiro   Real Sociedad   79.500000\n",
       "5              Alex Meret          Napoli   79.000000\n",
       "6                 Alisson       Liverpool   76.500000\n",
       "7             Brice Samba            Lens   75.666667\n",
       "8           Yehvann Diouf           Reims   74.166667\n",
       "9    Gianluigi Donnarumma       Paris S-G   74.000000\n",
       "10             David Raya       Brentford   73.333333\n",
       "11              Mory Diaw   Clermont Foot   73.166667\n",
       "12              Nick Pope   Newcastle Utd   72.333333\n",
       "13       Jeremías Ledesma           Cádiz   70.333333\n",
       "14      Kasper Schmeichel            Nice   66.500000\n",
       "15         Steve Mandanda          Rennes   65.833333\n",
       "16          Koen Casteels       Wolfsburg   65.666667\n",
       "17           Mark Flekken        Freiburg   65.333333\n",
       "18      Wojciech Szczęsny        Juventus   65.333333\n",
       "19         Aaron Ramsdale         Arsenal   64.833333"
      ]
     },
     "execution_count": 53,
     "metadata": {},
     "output_type": "execute_result"
    }
   ],
   "source": [
    "gk_df[['Name', 'Team', 'Points']].head(20).reset_index(drop=True)"
   ]
  },
  {
   "cell_type": "markdown",
   "id": "509baf40",
   "metadata": {},
   "source": [
    "The aforementioned goalkeepers represent the top performers in terms of Fantasy Premier League point distribution. Opting for those currently active in the Premier League can significantly enhance your prospects within the Fantasy Premier League competition.\n",
    "\n",
    "For example, you can safely go for __Alisson, David Raya, Nick Pope, or Aaron Ramsdale__."
   ]
  },
  {
   "cell_type": "markdown",
   "id": "c1bc515c",
   "metadata": {},
   "source": [
    "### Defender Analysis"
   ]
  },
  {
   "cell_type": "markdown",
   "id": "14c07344",
   "metadata": {},
   "source": [
    "To identify the most effective defenders in the Fantasy Premier League, it is crucial to examine the point distribution specifically for defenders."
   ]
  },
  {
   "cell_type": "markdown",
   "id": "169f6110",
   "metadata": {},
   "source": [
    "Defenders\n",
    "- Goals\n",
    "- Assists\n",
    "- Goals Conceded\n",
    "- Yellow Card\n",
    "- Red Card\n",
    "- Own Goal"
   ]
  },
  {
   "cell_type": "code",
   "execution_count": 54,
   "id": "1ad53d0d",
   "metadata": {},
   "outputs": [],
   "source": [
    "# Creating the dataframe for the defenders\n",
    "def_df = data[data['Position'] == 'DF']"
   ]
  },
  {
   "cell_type": "markdown",
   "id": "864ca539",
   "metadata": {},
   "source": [
    "Formula we are going to use to find the points for each defender:\n",
    "(Goals * 6) + (Assists * 3) - (Goals Conceded * (1/2)) - (Yellow Cards * 1) - (Red Cards * 3) - (Own Goals * 2)"
   ]
  },
  {
   "cell_type": "code",
   "execution_count": 55,
   "id": "ebb40459",
   "metadata": {},
   "outputs": [],
   "source": [
    "# Create a copy of the DataFrame to avoid SettingWithCopyWarning\n",
    "def_df_copy = def_df.copy()\n",
    "\n",
    "# Perform operations on the copy\n",
    "def_df_copy.loc[:, 'Points'] = (def_df_copy['Goals'] * 6) + (def_df_copy['Assists'] * 3)\n",
    "def_df_copy.loc[:, 'Points'] = def_df_copy['Points'] - (def_df_copy['Goals_Conceded'] / 2)\n",
    "def_df_copy.loc[:, 'Points'] = def_df_copy['Points'] - (def_df_copy['Yellow_Cards'])\n",
    "def_df_copy.loc[:, 'Points'] = def_df_copy['Points'] - (def_df_copy['Red_Cards'] * 3) - (def_df_copy['Own_Goals'] * 2)\n",
    "\n",
    "# After operations, we can reassign the modified copy back to the original DataFrame if needed\n",
    "def_df = def_df_copy"
   ]
  },
  {
   "cell_type": "code",
   "execution_count": 56,
   "id": "310237f7",
   "metadata": {},
   "outputs": [],
   "source": [
    "def_df.sort_values(by='Points', ascending=False, inplace=True)"
   ]
  },
  {
   "cell_type": "code",
   "execution_count": 57,
   "id": "4504afaf",
   "metadata": {},
   "outputs": [
    {
     "data": {
      "text/html": [
       "<div>\n",
       "<style scoped>\n",
       "    .dataframe tbody tr th:only-of-type {\n",
       "        vertical-align: middle;\n",
       "    }\n",
       "\n",
       "    .dataframe tbody tr th {\n",
       "        vertical-align: top;\n",
       "    }\n",
       "\n",
       "    .dataframe thead th {\n",
       "        text-align: right;\n",
       "    }\n",
       "</style>\n",
       "<table border=\"1\" class=\"dataframe\">\n",
       "  <thead>\n",
       "    <tr style=\"text-align: right;\">\n",
       "      <th></th>\n",
       "      <th>Name</th>\n",
       "      <th>Team</th>\n",
       "      <th>Points</th>\n",
       "    </tr>\n",
       "  </thead>\n",
       "  <tbody>\n",
       "    <tr>\n",
       "      <th>0</th>\n",
       "      <td>Nuno Mendes</td>\n",
       "      <td>Paris S-G</td>\n",
       "      <td>14.0</td>\n",
       "    </tr>\n",
       "    <tr>\n",
       "      <th>1</th>\n",
       "      <td>Sead Kolašinac</td>\n",
       "      <td>Marseille</td>\n",
       "      <td>13.0</td>\n",
       "    </tr>\n",
       "    <tr>\n",
       "      <th>2</th>\n",
       "      <td>Alejandro Balde</td>\n",
       "      <td>Barcelona</td>\n",
       "      <td>12.5</td>\n",
       "    </tr>\n",
       "    <tr>\n",
       "      <th>3</th>\n",
       "      <td>Trent Alexander-Arnold</td>\n",
       "      <td>Liverpool</td>\n",
       "      <td>12.0</td>\n",
       "    </tr>\n",
       "    <tr>\n",
       "      <th>4</th>\n",
       "      <td>Tyronne Ebuehi</td>\n",
       "      <td>Empoli</td>\n",
       "      <td>12.0</td>\n",
       "    </tr>\n",
       "    <tr>\n",
       "      <th>5</th>\n",
       "      <td>Robert Skov</td>\n",
       "      <td>Hoffenheim</td>\n",
       "      <td>12.0</td>\n",
       "    </tr>\n",
       "    <tr>\n",
       "      <th>6</th>\n",
       "      <td>Chancel Mbemba</td>\n",
       "      <td>Marseille</td>\n",
       "      <td>11.5</td>\n",
       "    </tr>\n",
       "    <tr>\n",
       "      <th>7</th>\n",
       "      <td>Éder Militão</td>\n",
       "      <td>Real Madrid</td>\n",
       "      <td>11.5</td>\n",
       "    </tr>\n",
       "    <tr>\n",
       "      <th>8</th>\n",
       "      <td>Juan Miranda</td>\n",
       "      <td>Betis</td>\n",
       "      <td>11.0</td>\n",
       "    </tr>\n",
       "    <tr>\n",
       "      <th>9</th>\n",
       "      <td>Josip Juranović</td>\n",
       "      <td>Union Berlin</td>\n",
       "      <td>10.5</td>\n",
       "    </tr>\n",
       "    <tr>\n",
       "      <th>10</th>\n",
       "      <td>Aurélio Buta</td>\n",
       "      <td>Eint Frankfurt</td>\n",
       "      <td>10.5</td>\n",
       "    </tr>\n",
       "    <tr>\n",
       "      <th>11</th>\n",
       "      <td>Mathías Olivera</td>\n",
       "      <td>Napoli</td>\n",
       "      <td>10.5</td>\n",
       "    </tr>\n",
       "    <tr>\n",
       "      <th>12</th>\n",
       "      <td>Borna Sosa</td>\n",
       "      <td>Stuttgart</td>\n",
       "      <td>9.0</td>\n",
       "    </tr>\n",
       "    <tr>\n",
       "      <th>13</th>\n",
       "      <td>Josh Doig</td>\n",
       "      <td>Hellas Verona</td>\n",
       "      <td>9.0</td>\n",
       "    </tr>\n",
       "    <tr>\n",
       "      <th>14</th>\n",
       "      <td>Noussair Mazraoui</td>\n",
       "      <td>Bayern Munich</td>\n",
       "      <td>9.0</td>\n",
       "    </tr>\n",
       "    <tr>\n",
       "      <th>15</th>\n",
       "      <td>Destiny Udogie</td>\n",
       "      <td>Udinese</td>\n",
       "      <td>8.5</td>\n",
       "    </tr>\n",
       "    <tr>\n",
       "      <th>16</th>\n",
       "      <td>Robin Gosens</td>\n",
       "      <td>Inter</td>\n",
       "      <td>8.5</td>\n",
       "    </tr>\n",
       "    <tr>\n",
       "      <th>17</th>\n",
       "      <td>João Cancelo</td>\n",
       "      <td>Manchester City</td>\n",
       "      <td>8.5</td>\n",
       "    </tr>\n",
       "    <tr>\n",
       "      <th>18</th>\n",
       "      <td>Theo Hernández</td>\n",
       "      <td>Milan</td>\n",
       "      <td>8.5</td>\n",
       "    </tr>\n",
       "    <tr>\n",
       "      <th>19</th>\n",
       "      <td>Jordi Alba</td>\n",
       "      <td>Barcelona</td>\n",
       "      <td>8.0</td>\n",
       "    </tr>\n",
       "  </tbody>\n",
       "</table>\n",
       "</div>"
      ],
      "text/plain": [
       "                      Name             Team  Points\n",
       "0              Nuno Mendes        Paris S-G    14.0\n",
       "1           Sead Kolašinac        Marseille    13.0\n",
       "2          Alejandro Balde        Barcelona    12.5\n",
       "3   Trent Alexander-Arnold        Liverpool    12.0\n",
       "4           Tyronne Ebuehi           Empoli    12.0\n",
       "5              Robert Skov       Hoffenheim    12.0\n",
       "6           Chancel Mbemba        Marseille    11.5\n",
       "7             Éder Militão      Real Madrid    11.5\n",
       "8             Juan Miranda            Betis    11.0\n",
       "9          Josip Juranović     Union Berlin    10.5\n",
       "10            Aurélio Buta   Eint Frankfurt    10.5\n",
       "11         Mathías Olivera           Napoli    10.5\n",
       "12              Borna Sosa        Stuttgart     9.0\n",
       "13               Josh Doig    Hellas Verona     9.0\n",
       "14       Noussair Mazraoui    Bayern Munich     9.0\n",
       "15          Destiny Udogie          Udinese     8.5\n",
       "16            Robin Gosens            Inter     8.5\n",
       "17            João Cancelo  Manchester City     8.5\n",
       "18          Theo Hernández            Milan     8.5\n",
       "19              Jordi Alba        Barcelona     8.0"
      ]
     },
     "execution_count": 57,
     "metadata": {},
     "output_type": "execute_result"
    }
   ],
   "source": [
    "def_df[['Name', 'Team', 'Points']][10:30].reset_index(drop=True)"
   ]
  },
  {
   "cell_type": "markdown",
   "id": "24ac75aa",
   "metadata": {},
   "source": [
    "These highlighted defenders exemplify outstanding performance in terms of point distribution within the Fantasy Premier League. Opting for those currently engaged in the Premier League can notably boost your chances in the Fantasy Premier League competition. For instance, you might consider selecting players like __Trent Alexander-Arnold or Destiny Udogie__."
   ]
  },
  {
   "cell_type": "markdown",
   "id": "d8f01063",
   "metadata": {},
   "source": [
    "### Midfielder Analysis"
   ]
  },
  {
   "cell_type": "markdown",
   "id": "cfbd85e9",
   "metadata": {},
   "source": [
    "In order to pinpoint the most impactful midfielders in the Fantasy Premier League, it is essential to analyze the point allocation that pertains specifically to midfielders."
   ]
  },
  {
   "cell_type": "markdown",
   "id": "316f2d77",
   "metadata": {},
   "source": [
    "Midfielders\n",
    "- Goals\n",
    "- Assists\n",
    "- Penalty Miss\n",
    "- Yellow Card\n",
    "- Red Card\n",
    "- Own Goal"
   ]
  },
  {
   "cell_type": "code",
   "execution_count": 58,
   "id": "bb98084d",
   "metadata": {},
   "outputs": [],
   "source": [
    "# Creating the dataframe for the midfielders\n",
    "mid_df = data[data['Position'].str.contains('MF')]"
   ]
  },
  {
   "cell_type": "markdown",
   "id": "0ee6449f",
   "metadata": {},
   "source": [
    "Formula we are going to use to find the points for each midfielder: (Goals * 5) + (Assists * 3) - (Penalties Missed * 2) - (Yellow Cards * 1) - (Red Cards * 3) - (Own Goals * 2)"
   ]
  },
  {
   "cell_type": "code",
   "execution_count": 59,
   "id": "99615fe3",
   "metadata": {},
   "outputs": [],
   "source": [
    "# Create a copy of the DataFrame to avoid SettingWithCopyWarning\n",
    "mid_df_copy = mid_df.copy()\n",
    "\n",
    "# Perform operations on the copy\n",
    "mid_df_copy.loc[:, 'Points'] = (mid_df_copy['Goals'] * 5) + (mid_df_copy['Assists'] * 3)\n",
    "mid_df_copy.loc[:, 'Points'] = mid_df_copy['Points'] - (mid_df_copy['Penalty_Missed'] * 2)\n",
    "mid_df_copy.loc[:, 'Points'] = mid_df_copy['Points'] - (mid_df_copy['Yellow_Cards'])\n",
    "mid_df_copy.loc[:, 'Points'] = mid_df_copy['Points'] - (mid_df_copy['Red_Cards'] * 3) - (mid_df_copy['Own_Goals'] * 2)\n",
    "\n",
    "# After operations, we can reassign the modified copy back to the original DataFrame if needed\n",
    "mid_df = mid_df_copy"
   ]
  },
  {
   "cell_type": "code",
   "execution_count": 60,
   "id": "15b09613",
   "metadata": {},
   "outputs": [],
   "source": [
    "mid_df.sort_values(by='Points', ascending=False, inplace=True)"
   ]
  },
  {
   "cell_type": "code",
   "execution_count": 61,
   "id": "bb3e8965",
   "metadata": {},
   "outputs": [
    {
     "data": {
      "text/html": [
       "<div>\n",
       "<style scoped>\n",
       "    .dataframe tbody tr th:only-of-type {\n",
       "        vertical-align: middle;\n",
       "    }\n",
       "\n",
       "    .dataframe tbody tr th {\n",
       "        vertical-align: top;\n",
       "    }\n",
       "\n",
       "    .dataframe thead th {\n",
       "        text-align: right;\n",
       "    }\n",
       "</style>\n",
       "<table border=\"1\" class=\"dataframe\">\n",
       "  <thead>\n",
       "    <tr style=\"text-align: right;\">\n",
       "      <th></th>\n",
       "      <th>Name</th>\n",
       "      <th>Team</th>\n",
       "      <th>Points</th>\n",
       "    </tr>\n",
       "  </thead>\n",
       "  <tbody>\n",
       "    <tr>\n",
       "      <th>0</th>\n",
       "      <td>Lionel Messi</td>\n",
       "      <td>Paris S-G</td>\n",
       "      <td>128.0</td>\n",
       "    </tr>\n",
       "    <tr>\n",
       "      <th>1</th>\n",
       "      <td>Antoine Griezmann</td>\n",
       "      <td>Atlético Madrid</td>\n",
       "      <td>121.0</td>\n",
       "    </tr>\n",
       "    <tr>\n",
       "      <th>2</th>\n",
       "      <td>Boulaye Dia</td>\n",
       "      <td>Salernitana</td>\n",
       "      <td>94.0</td>\n",
       "    </tr>\n",
       "    <tr>\n",
       "      <th>3</th>\n",
       "      <td>Martin Ødegaard</td>\n",
       "      <td>Arsenal</td>\n",
       "      <td>92.0</td>\n",
       "    </tr>\n",
       "    <tr>\n",
       "      <th>4</th>\n",
       "      <td>Neymar</td>\n",
       "      <td>Paris S-G</td>\n",
       "      <td>89.0</td>\n",
       "    </tr>\n",
       "    <tr>\n",
       "      <th>5</th>\n",
       "      <td>Jamal Musiala</td>\n",
       "      <td>Bayern Munich</td>\n",
       "      <td>89.0</td>\n",
       "    </tr>\n",
       "    <tr>\n",
       "      <th>6</th>\n",
       "      <td>Rafael Leão</td>\n",
       "      <td>Milan</td>\n",
       "      <td>89.0</td>\n",
       "    </tr>\n",
       "    <tr>\n",
       "      <th>7</th>\n",
       "      <td>Vincenzo Grifo</td>\n",
       "      <td>Freiburg</td>\n",
       "      <td>86.0</td>\n",
       "    </tr>\n",
       "    <tr>\n",
       "      <th>8</th>\n",
       "      <td>Christopher Nkunku</td>\n",
       "      <td>RB Leipzig</td>\n",
       "      <td>86.0</td>\n",
       "    </tr>\n",
       "    <tr>\n",
       "      <th>9</th>\n",
       "      <td>Serge Gnabry</td>\n",
       "      <td>Bayern Munich</td>\n",
       "      <td>85.0</td>\n",
       "    </tr>\n",
       "    <tr>\n",
       "      <th>10</th>\n",
       "      <td>Jonas Hofmann</td>\n",
       "      <td>M'Gladbach</td>\n",
       "      <td>83.0</td>\n",
       "    </tr>\n",
       "    <tr>\n",
       "      <th>11</th>\n",
       "      <td>Kevin De Bruyne</td>\n",
       "      <td>Manchester City</td>\n",
       "      <td>82.0</td>\n",
       "    </tr>\n",
       "    <tr>\n",
       "      <th>12</th>\n",
       "      <td>Ademola Lookman</td>\n",
       "      <td>Atalanta</td>\n",
       "      <td>80.0</td>\n",
       "    </tr>\n",
       "    <tr>\n",
       "      <th>13</th>\n",
       "      <td>Amine Gouiri</td>\n",
       "      <td>Nice</td>\n",
       "      <td>80.0</td>\n",
       "    </tr>\n",
       "    <tr>\n",
       "      <th>14</th>\n",
       "      <td>Alexis Sánchez</td>\n",
       "      <td>Marseille</td>\n",
       "      <td>74.0</td>\n",
       "    </tr>\n",
       "    <tr>\n",
       "      <th>15</th>\n",
       "      <td>Paulo Dybala</td>\n",
       "      <td>Roma</td>\n",
       "      <td>73.0</td>\n",
       "    </tr>\n",
       "    <tr>\n",
       "      <th>16</th>\n",
       "      <td>Roberto Firmino</td>\n",
       "      <td>Liverpool</td>\n",
       "      <td>67.0</td>\n",
       "    </tr>\n",
       "    <tr>\n",
       "      <th>17</th>\n",
       "      <td>Julian Brandt</td>\n",
       "      <td>Dortmund</td>\n",
       "      <td>67.0</td>\n",
       "    </tr>\n",
       "    <tr>\n",
       "      <th>18</th>\n",
       "      <td>Son Heung-min</td>\n",
       "      <td>Tottenham</td>\n",
       "      <td>66.0</td>\n",
       "    </tr>\n",
       "    <tr>\n",
       "      <th>19</th>\n",
       "      <td>Rodrygo</td>\n",
       "      <td>Real Madrid</td>\n",
       "      <td>65.0</td>\n",
       "    </tr>\n",
       "    <tr>\n",
       "      <th>20</th>\n",
       "      <td>James Maddison</td>\n",
       "      <td>Leicester City</td>\n",
       "      <td>65.0</td>\n",
       "    </tr>\n",
       "    <tr>\n",
       "      <th>21</th>\n",
       "      <td>Andrej Kramarić</td>\n",
       "      <td>Hoffenheim</td>\n",
       "      <td>65.0</td>\n",
       "    </tr>\n",
       "    <tr>\n",
       "      <th>22</th>\n",
       "      <td>Harvey Barnes</td>\n",
       "      <td>Leicester City</td>\n",
       "      <td>65.0</td>\n",
       "    </tr>\n",
       "    <tr>\n",
       "      <th>23</th>\n",
       "      <td>Moussa Diaby</td>\n",
       "      <td>Leverkusen</td>\n",
       "      <td>63.0</td>\n",
       "    </tr>\n",
       "    <tr>\n",
       "      <th>24</th>\n",
       "      <td>Rémy Cabella</td>\n",
       "      <td>Lille</td>\n",
       "      <td>62.0</td>\n",
       "    </tr>\n",
       "    <tr>\n",
       "      <th>25</th>\n",
       "      <td>Rodrigo</td>\n",
       "      <td>Leeds United</td>\n",
       "      <td>62.0</td>\n",
       "    </tr>\n",
       "    <tr>\n",
       "      <th>26</th>\n",
       "      <td>Zakaria Aboukhlal</td>\n",
       "      <td>Toulouse</td>\n",
       "      <td>61.0</td>\n",
       "    </tr>\n",
       "    <tr>\n",
       "      <th>27</th>\n",
       "      <td>Pascal Groß</td>\n",
       "      <td>Brighton</td>\n",
       "      <td>61.0</td>\n",
       "    </tr>\n",
       "    <tr>\n",
       "      <th>28</th>\n",
       "      <td>Marco Asensio</td>\n",
       "      <td>Real Madrid</td>\n",
       "      <td>60.0</td>\n",
       "    </tr>\n",
       "    <tr>\n",
       "      <th>29</th>\n",
       "      <td>Daichi Kamada</td>\n",
       "      <td>Eint Frankfurt</td>\n",
       "      <td>60.0</td>\n",
       "    </tr>\n",
       "  </tbody>\n",
       "</table>\n",
       "</div>"
      ],
      "text/plain": [
       "                  Name             Team  Points\n",
       "0         Lionel Messi        Paris S-G   128.0\n",
       "1    Antoine Griezmann  Atlético Madrid   121.0\n",
       "2          Boulaye Dia      Salernitana    94.0\n",
       "3      Martin Ødegaard          Arsenal    92.0\n",
       "4               Neymar        Paris S-G    89.0\n",
       "5        Jamal Musiala    Bayern Munich    89.0\n",
       "6          Rafael Leão            Milan    89.0\n",
       "7       Vincenzo Grifo         Freiburg    86.0\n",
       "8   Christopher Nkunku       RB Leipzig    86.0\n",
       "9         Serge Gnabry    Bayern Munich    85.0\n",
       "10       Jonas Hofmann       M'Gladbach    83.0\n",
       "11     Kevin De Bruyne  Manchester City    82.0\n",
       "12     Ademola Lookman         Atalanta    80.0\n",
       "13        Amine Gouiri             Nice    80.0\n",
       "14      Alexis Sánchez        Marseille    74.0\n",
       "15        Paulo Dybala             Roma    73.0\n",
       "16     Roberto Firmino        Liverpool    67.0\n",
       "17       Julian Brandt         Dortmund    67.0\n",
       "18       Son Heung-min        Tottenham    66.0\n",
       "19             Rodrygo      Real Madrid    65.0\n",
       "20      James Maddison   Leicester City    65.0\n",
       "21     Andrej Kramarić       Hoffenheim    65.0\n",
       "22       Harvey Barnes   Leicester City    65.0\n",
       "23        Moussa Diaby       Leverkusen    63.0\n",
       "24        Rémy Cabella            Lille    62.0\n",
       "25             Rodrigo     Leeds United    62.0\n",
       "26   Zakaria Aboukhlal         Toulouse    61.0\n",
       "27         Pascal Groß         Brighton    61.0\n",
       "28       Marco Asensio      Real Madrid    60.0\n",
       "29       Daichi Kamada   Eint Frankfurt    60.0"
      ]
     },
     "execution_count": 61,
     "metadata": {},
     "output_type": "execute_result"
    }
   ],
   "source": [
    "mid_df[['Name', 'Team', 'Points']][:30].reset_index(drop=True)"
   ]
  },
  {
   "cell_type": "markdown",
   "id": "3d28576b",
   "metadata": {},
   "source": [
    "These highlighted midfielders showcase exceptional performance when it comes to the allocation of points in the Fantasy Premier League. Opting for those presently active in the Premier League can significantly enhance your prospects in the Fantasy Premier League competition. For example, you might contemplate selecting players such as __Ødegaard, Kevin De Bruyne, Son Heung-min, James Maddison, or Moussa Diaby__."
   ]
  },
  {
   "cell_type": "markdown",
   "id": "77624794",
   "metadata": {},
   "source": [
    "### Forward Analysis"
   ]
  },
  {
   "cell_type": "markdown",
   "id": "1a6be33c",
   "metadata": {},
   "source": [
    "To identify the most influential forwards in the Fantasy Premier League, it is crucial to analyze the point distribution that specifically relates to forwards."
   ]
  },
  {
   "cell_type": "markdown",
   "id": "475185d4",
   "metadata": {},
   "source": [
    "Forwards\n",
    "- Goals\n",
    "- Assists\n",
    "- Penalty Miss\n",
    "- Yellow Card\n",
    "- Red Card\n",
    "- Own Goal"
   ]
  },
  {
   "cell_type": "code",
   "execution_count": 62,
   "id": "313f2488",
   "metadata": {},
   "outputs": [],
   "source": [
    "# Creating the dataframe for the forwards\n",
    "for_df = data[data['Position'] == 'FW']"
   ]
  },
  {
   "cell_type": "markdown",
   "id": "05b7fc99",
   "metadata": {},
   "source": [
    "Formula we are going to use to find the points for each forward: (Goals * 4) + (Assists * 3) - (Penalties Missed * 2) - (Yellow Cards * 1) - (Red Cards * 3) - (Own Goals * 2)"
   ]
  },
  {
   "cell_type": "code",
   "execution_count": 63,
   "id": "f1383efa",
   "metadata": {},
   "outputs": [],
   "source": [
    "# Create a copy of the DataFrame to avoid SettingWithCopyWarning\n",
    "for_df_copy = for_df.copy()\n",
    "\n",
    "# Perform operations on the copy\n",
    "for_df_copy.loc[:, 'Points'] = (for_df_copy['Goals'] * 4) + (for_df_copy['Assists'] * 3)\n",
    "for_df_copy.loc[:, 'Points'] = for_df_copy['Points'] - (for_df_copy['Penalty_Missed'] * 2)\n",
    "for_df_copy.loc[:, 'Points'] = for_df_copy['Points'] - (for_df_copy['Yellow_Cards'])\n",
    "for_df_copy.loc[:, 'Points'] = for_df_copy['Points'] - (for_df_copy['Red_Cards'] * 3) - (for_df_copy['Own_Goals'] * 2)\n",
    "\n",
    "# After operations, we can reassign the modified copy back to the original DataFrame if needed\n",
    "for_df = for_df_copy"
   ]
  },
  {
   "cell_type": "code",
   "execution_count": 64,
   "id": "d4cd97c0",
   "metadata": {},
   "outputs": [],
   "source": [
    "for_df.sort_values(by='Points', ascending=False, inplace=True)"
   ]
  },
  {
   "cell_type": "code",
   "execution_count": 65,
   "id": "dbe17e2f",
   "metadata": {},
   "outputs": [
    {
     "data": {
      "text/html": [
       "<div>\n",
       "<style scoped>\n",
       "    .dataframe tbody tr th:only-of-type {\n",
       "        vertical-align: middle;\n",
       "    }\n",
       "\n",
       "    .dataframe tbody tr th {\n",
       "        vertical-align: top;\n",
       "    }\n",
       "\n",
       "    .dataframe thead th {\n",
       "        text-align: right;\n",
       "    }\n",
       "</style>\n",
       "<table border=\"1\" class=\"dataframe\">\n",
       "  <thead>\n",
       "    <tr style=\"text-align: right;\">\n",
       "      <th></th>\n",
       "      <th>Name</th>\n",
       "      <th>Team</th>\n",
       "      <th>Points</th>\n",
       "    </tr>\n",
       "  </thead>\n",
       "  <tbody>\n",
       "    <tr>\n",
       "      <th>0</th>\n",
       "      <td>Erling Haaland</td>\n",
       "      <td>Manchester City</td>\n",
       "      <td>163.0</td>\n",
       "    </tr>\n",
       "    <tr>\n",
       "      <th>1</th>\n",
       "      <td>Kylian Mbappé</td>\n",
       "      <td>Paris S-G</td>\n",
       "      <td>121.0</td>\n",
       "    </tr>\n",
       "    <tr>\n",
       "      <th>2</th>\n",
       "      <td>Harry Kane</td>\n",
       "      <td>Tottenham</td>\n",
       "      <td>121.0</td>\n",
       "    </tr>\n",
       "    <tr>\n",
       "      <th>3</th>\n",
       "      <td>Alexandre Lacazette</td>\n",
       "      <td>Lyon</td>\n",
       "      <td>116.0</td>\n",
       "    </tr>\n",
       "    <tr>\n",
       "      <th>4</th>\n",
       "      <td>Victor Osimhen</td>\n",
       "      <td>Napoli</td>\n",
       "      <td>110.0</td>\n",
       "    </tr>\n",
       "    <tr>\n",
       "      <th>5</th>\n",
       "      <td>Mohamed Salah</td>\n",
       "      <td>Liverpool</td>\n",
       "      <td>106.0</td>\n",
       "    </tr>\n",
       "    <tr>\n",
       "      <th>6</th>\n",
       "      <td>Robert Lewandowski</td>\n",
       "      <td>Barcelona</td>\n",
       "      <td>104.0</td>\n",
       "    </tr>\n",
       "    <tr>\n",
       "      <th>7</th>\n",
       "      <td>Jonathan David</td>\n",
       "      <td>Lille</td>\n",
       "      <td>100.0</td>\n",
       "    </tr>\n",
       "    <tr>\n",
       "      <th>8</th>\n",
       "      <td>Lautaro Martínez</td>\n",
       "      <td>Inter</td>\n",
       "      <td>97.0</td>\n",
       "    </tr>\n",
       "    <tr>\n",
       "      <th>9</th>\n",
       "      <td>Loïs Openda</td>\n",
       "      <td>Lens</td>\n",
       "      <td>94.0</td>\n",
       "    </tr>\n",
       "    <tr>\n",
       "      <th>10</th>\n",
       "      <td>Wissam Ben Yedder</td>\n",
       "      <td>Monaco</td>\n",
       "      <td>88.0</td>\n",
       "    </tr>\n",
       "    <tr>\n",
       "      <th>11</th>\n",
       "      <td>Randal Kolo Muani</td>\n",
       "      <td>Eint Frankfurt</td>\n",
       "      <td>84.0</td>\n",
       "    </tr>\n",
       "    <tr>\n",
       "      <th>12</th>\n",
       "      <td>Folarin Balogun</td>\n",
       "      <td>Reims</td>\n",
       "      <td>83.0</td>\n",
       "    </tr>\n",
       "    <tr>\n",
       "      <th>13</th>\n",
       "      <td>Callum Wilson</td>\n",
       "      <td>Newcastle Utd</td>\n",
       "      <td>83.0</td>\n",
       "    </tr>\n",
       "    <tr>\n",
       "      <th>14</th>\n",
       "      <td>Karim Benzema</td>\n",
       "      <td>Real Madrid</td>\n",
       "      <td>82.0</td>\n",
       "    </tr>\n",
       "    <tr>\n",
       "      <th>15</th>\n",
       "      <td>Marcus Rashford</td>\n",
       "      <td>Manchester Utd</td>\n",
       "      <td>81.0</td>\n",
       "    </tr>\n",
       "    <tr>\n",
       "      <th>16</th>\n",
       "      <td>Bukayo Saka</td>\n",
       "      <td>Arsenal</td>\n",
       "      <td>81.0</td>\n",
       "    </tr>\n",
       "    <tr>\n",
       "      <th>17</th>\n",
       "      <td>Ivan Toney</td>\n",
       "      <td>Brentford</td>\n",
       "      <td>81.0</td>\n",
       "    </tr>\n",
       "    <tr>\n",
       "      <th>18</th>\n",
       "      <td>Elye Wahi</td>\n",
       "      <td>Montpellier</td>\n",
       "      <td>80.0</td>\n",
       "    </tr>\n",
       "    <tr>\n",
       "      <th>19</th>\n",
       "      <td>Khvicha Kvaratskhelia</td>\n",
       "      <td>Napoli</td>\n",
       "      <td>77.0</td>\n",
       "    </tr>\n",
       "  </tbody>\n",
       "</table>\n",
       "</div>"
      ],
      "text/plain": [
       "                     Name             Team  Points\n",
       "0          Erling Haaland  Manchester City   163.0\n",
       "1           Kylian Mbappé        Paris S-G   121.0\n",
       "2              Harry Kane        Tottenham   121.0\n",
       "3     Alexandre Lacazette             Lyon   116.0\n",
       "4          Victor Osimhen           Napoli   110.0\n",
       "5           Mohamed Salah        Liverpool   106.0\n",
       "6      Robert Lewandowski        Barcelona   104.0\n",
       "7          Jonathan David            Lille   100.0\n",
       "8        Lautaro Martínez            Inter    97.0\n",
       "9             Loïs Openda             Lens    94.0\n",
       "10      Wissam Ben Yedder           Monaco    88.0\n",
       "11      Randal Kolo Muani   Eint Frankfurt    84.0\n",
       "12        Folarin Balogun            Reims    83.0\n",
       "13          Callum Wilson    Newcastle Utd    83.0\n",
       "14          Karim Benzema      Real Madrid    82.0\n",
       "15        Marcus Rashford   Manchester Utd    81.0\n",
       "16            Bukayo Saka          Arsenal    81.0\n",
       "17             Ivan Toney        Brentford    81.0\n",
       "18              Elye Wahi      Montpellier    80.0\n",
       "19  Khvicha Kvaratskhelia           Napoli    77.0"
      ]
     },
     "execution_count": 65,
     "metadata": {},
     "output_type": "execute_result"
    }
   ],
   "source": [
    "for_df[['Name', 'Team', 'Points']][:20].reset_index(drop=True)"
   ]
  },
  {
   "cell_type": "markdown",
   "id": "4913c2d6",
   "metadata": {},
   "source": [
    "These highlighted midfielders demonstrate exceptional proficiency in accruing points within the Fantasy Premier League. Opting for those currently participating in the Premier League can substantially improve your prospects in the Fantasy Premier League competition. For instance, you might consider selecting players like __Haaland, Salah, Callum Wilson, or Ivan Toney__."
   ]
  },
  {
   "cell_type": "markdown",
   "id": "0b8d1fec",
   "metadata": {},
   "source": [
    "## Conclusion"
   ]
  },
  {
   "cell_type": "markdown",
   "id": "d3d2dad7",
   "metadata": {},
   "source": [
    "In conclusion, the Fantasy Premier League (FPL) has emerged as a prominent interactive platform with a vast community of over 11.5 million enthusiasts in 2023. Owned and operated by the Premier League itself, this game offers an engaging experience for football fans, allowing them to create and manage their own virtual teams. Our data analysis project has focused on identifying the most promising players for fantasy football teams, utilizing a comprehensive evaluation of player performance statistics from the previous season. By systematically exploring various statistical metrics, we have gained valuable insights into the top-performing goalkeepers, defenders, midfielders, and forwards within the FPL.\n",
    "\n",
    "Through a thorough examination of key player attributes and performance indicators, we have highlighted the significance of selecting players who demonstrate exceptional proficiency in goal-scoring, assisting, and defensive contributions. Our analysis has emphasized the importance of understanding specific position-based metrics, such as clean sheets, saves, penalties saved, and goals conceded, in order to make informed decisions when selecting players for each position. By leveraging a meticulous approach to data analysis, we have provided valuable recommendations for players to consider when assembling their fantasy football teams, ensuring a strategic and competitive advantage in the FPL competition.\n",
    "\n",
    "---\n",
    "With an extensive focus on player statistics, performance metrics, and strategic insights, our project serves as a valuable resource for enthusiasts seeking to optimize their team compositions and maximize their chances of success in the Fantasy Premier League. By considering the recommendations and analysis presented here, participants can make informed decisions and build well-balanced teams that are primed for success in the dynamic and competitive landscape of the Fantasy Premier League."
   ]
  }
 ],
 "metadata": {
  "kernelspec": {
   "display_name": "Python 3 (ipykernel)",
   "language": "python",
   "name": "python3"
  },
  "language_info": {
   "codemirror_mode": {
    "name": "ipython",
    "version": 3
   },
   "file_extension": ".py",
   "mimetype": "text/x-python",
   "name": "python",
   "nbconvert_exporter": "python",
   "pygments_lexer": "ipython3",
   "version": "3.9.13"
  }
 },
 "nbformat": 4,
 "nbformat_minor": 5
}
